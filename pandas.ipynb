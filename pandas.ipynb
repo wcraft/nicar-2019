{
 "cells": [
  {
   "cell_type": "markdown",
   "metadata": {},
   "source": [
    "# 🐼 Pandas for Data Analysis\n",
    "\n",
    "Pandas is a python library that helps you quickly interview, analyze, manipulate and process data. A python library is a collection of functions and methods that allow you to write less code in order to do the same thing.\n",
    "\n",
    "For example, below is an example of how you would import `.csv` data without pandas:"
   ]
  },
  {
   "cell_type": "code",
   "execution_count": 4,
   "metadata": {},
   "outputs": [
    {
     "name": "stdout",
     "output_type": "stream",
     "text": [
      "['', 'Date', 'AveragePrice', 'Total Volume', '4046', '4225', '4770', 'Total Bags', 'Small Bags', 'Large Bags', 'XLarge Bags', 'type', 'year', 'region']\n",
      "['0', '2015-12-27', '1.33', '64236.62', '1036.74', '54454.85', '48.16', '8696.87', '8603.62', '93.25', '0', 'conventional', '2015', 'Albany']\n",
      "['1', '2015-12-20', '1.35', '54876.98', '674.28', '44638.81', '58.33', '9505.56', '9408.07', '97.49', '0', 'conventional', '2015', 'Albany']\n",
      "['2', '2015-12-13', '0.93', '118220.22', '794.7', '109149.67', '130.5', '8145.35', '8042.21', '103.14', '0', 'conventional', '2015', 'Albany']\n",
      "['3', '2015-12-06', '1.08', '78992.15', '1132', '71976.41', '72.58', '5811.16', '5677.4', '133.76', '0', 'conventional', '2015', 'Albany']\n",
      "['4', '2015-11-29', '1.28', '51039.6', '941.48', '43838.39', '75.78', '6183.95', '5986.26', '197.69', '0', 'conventional', '2015', 'Albany']\n",
      "['5', '2015-11-22', '1.26', '55979.78', '1184.27', '48067.99', '43.61', '6683.91', '6556.47', '127.44', '0', 'conventional', '2015', 'Albany']\n",
      "['6', '2015-11-15', '0.99', '83453.76', '1368.92', '73672.72', '93.26', '8318.86', '8196.81', '122.05', '0', 'conventional', '2015', 'Albany']\n",
      "['7', '2015-11-08', '0.98', '109428.33', '703.75', '101815.36', '80', '6829.22', '6266.85', '562.37', '0', 'conventional', '2015', 'Albany']\n",
      "['8', '2015-11-01', '1.02', '99811.42', '1022.15', '87315.57', '85.34', '11388.36', '11104.53', '283.83', '0', 'conventional', '2015', 'Albany']\n",
      "['9', '2015-10-25', '1.07', '74338.76', '842.4', '64757.44', '113', '8625.92', '8061.47', '564.45', '0', 'conventional', '2015', 'Albany']\n",
      "['10', '2015-10-18', '1.12', '84843.44', '924.86', '75595.85', '117.07', '8205.66', '7877.86', '327.8', '0', 'conventional', '2015', 'Albany']\n",
      "['11', '2015-10-11', '1.28', '64489.17', '1582.03', '52677.92', '105.32', '10123.9', '9866.27', '257.63', '0', 'conventional', '2015', 'Albany']\n",
      "['12', '2015-10-04', '1.31', '61007.1', '2268.32', '49880.67', '101.36', '8756.75', '8379.98', '376.77', '0', 'conventional', '2015', 'Albany']\n",
      "['13', '2015-09-27', '0.99', '106803.39', '1204.88', '99409.21', '154.84', '6034.46', '5888.87', '145.59', '0', 'conventional', '2015', 'Albany']\n",
      "['14', '2015-09-20', '1.33', '69759.01', '1028.03', '59313.12', '150.5', '9267.36', '8489.1', '778.26', '0', 'conventional', '2015', 'Albany']\n",
      "['15', '2015-09-13', '1.28', '76111.27', '985.73', '65696.86', '142', '9286.68', '8665.19', '621.49', '0', 'conventional', '2015', 'Albany']\n",
      "['16', '2015-09-06', '1.11', '99172.96', '879.45', '90062.62', '240.79', '7990.1', '7762.87', '227.23', '0', 'conventional', '2015', 'Albany']\n",
      "['17', '2015-08-30', '1.07', '105693.84', '689.01', '94362.67', '335.43', '10306.73', '10218.93', '87.8', '0', 'conventional', '2015', 'Albany']\n",
      "['18', '2015-08-23', '1.34', '79992.09', '733.16', '67933.79', '444.78', '10880.36', '10745.79', '134.57', '0', 'conventional', '2015', 'Albany']\n",
      "['19', '2015-08-16', '1.33', '80043.78', '539.65', '68666.01', '394.9', '10443.22', '10297.68', '145.54', '0', 'conventional', '2015', 'Albany']\n",
      "['20', '2015-08-09', '1.12', '111140.93', '584.63', '100961.46', '368.95', '9225.89', '9116.34', '109.55', '0', 'conventional', '2015', 'Albany']\n",
      "['21', '2015-08-02', '1.45', '75133.1', '509.94', '62035.06', '741.08', '11847.02', '11768.52', '78.5', '0', 'conventional', '2015', 'Albany']\n",
      "['22', '2015-07-26', '1.11', '106757.1', '648.75', '91949.05', '966.61', '13192.69', '13061.53', '131.16', '0', 'conventional', '2015', 'Albany']\n",
      "['23', '2015-07-19', '1.26', '96617', '1042.1', '82049.4', '2238.02', '11287.48', '11103.49', '183.99', '0', 'conventional', '2015', 'Albany']\n",
      "['24', '2015-07-12', '1.05', '124055.31', '672.25', '94693.52', '4257.64', '24431.9', '24290.08', '108.49', '33.33', 'conventional', '2015', 'Albany']\n",
      "['25', '2015-07-05', '1.35', '109252.12', '869.45', '72600.55', '5883.16', '29898.96', '29663.19', '235.77', '0', 'conventional', '2015', 'Albany']\n",
      "['26', '2015-06-28', '1.37', '89534.81', '664.23', '57545.79', '4662.71', '26662.08', '26311.76', '350.32', '0', 'conventional', '2015', 'Albany']\n",
      "['27', '2015-06-21', '1.27', '104849.39', '804.01', '76688.55', '5481.18', '21875.65', '21662', '213.65', '0', 'conventional', '2015', 'Albany']\n",
      "['28', '2015-06-14', '1.32', '89631.3', '850.58', '55400.94', '4377.19', '29002.59', '28343.14', '659.45', '0', 'conventional', '2015', 'Albany']\n",
      "['29', '2015-06-07', '1.07', '122743.06', '656.71', '99220.82', '90.32', '22775.21', '22314.99', '460.22', '0', 'conventional', '2015', 'Albany']\n",
      "['30', '2015-05-31', '1.23', '95123.62', '922.37', '70469.69', '50.55', '23681.01', '23222.49', '458.52', '0', 'conventional', '2015', 'Albany']\n",
      "['31', '2015-05-24', '1.19', '101470.91', '680.27', '71376.81', '58.7', '29355.13', '28761.81', '593.32', '0', 'conventional', '2015', 'Albany']\n",
      "['32', '2015-05-17', '1.43', '109857.47', '1150.55', '81955.16', '94.32', '26657.44', '26285.43', '372.01', '0', 'conventional', '2015', 'Albany']\n",
      "['33', '2015-05-10', '1.26', '120427.91', '1420.43', '102000.52', '185.66', '16821.3', '16535.55', '285.75', '0', 'conventional', '2015', 'Albany']\n",
      "['34', '2015-05-03', '1.2', '59197.67', '919.87', '45490.05', '217.24', '12570.51', '12201.95', '368.56', '0', 'conventional', '2015', 'Albany']\n",
      "['35', '2015-04-26', '1.22', '49585.46', '875.65', '35841.75', '89.62', '12778.44', '12076.83', '701.61', '0', 'conventional', '2015', 'Albany']\n",
      "['36', '2015-04-19', '1.19', '49064.73', '774.15', '33941.51', '47.15', '14301.92', '13602.97', '698.95', '0', 'conventional', '2015', 'Albany']\n",
      "['37', '2015-04-12', '1.13', '48364.29', '864.27', '30374.15', '21.5', '17104.37', '16438.49', '665.88', '0', 'conventional', '2015', 'Albany']\n",
      "['38', '2015-04-05', '1.16', '47362.13', '961.77', '35577.66', '93.76', '10728.94', '9869.16', '755.61', '104.17', 'conventional', '2015', 'Albany']\n",
      "['39', '2015-03-29', '1.02', '67799.08', '1402.28', '58623.22', '89.5', '7684.08', '7208.49', '475.59', '0', 'conventional', '2015', 'Albany']\n"
     ]
    }
   ],
   "source": [
    "import csv\n",
    "\n",
    "with open('data/avocado-short.csv', newline='') as csvfile:\n",
    "    avoreader = csv.reader(csvfile)\n",
    "    for row in avoreader:\n",
    "        print(row)"
   ]
  },
  {
   "cell_type": "markdown",
   "metadata": {},
   "source": [
    "And here's how you'd do it with pandas:"
   ]
  },
  {
   "cell_type": "code",
   "execution_count": 2,
   "metadata": {},
   "outputs": [
    {
     "name": "stdout",
     "output_type": "stream",
     "text": [
      "    Unnamed: 0        Date  AveragePrice  Total Volume     4046       4225  \\\n",
      "0            0  2015-12-27          1.33      64236.62  1036.74   54454.85   \n",
      "1            1  2015-12-20          1.35      54876.98   674.28   44638.81   \n",
      "2            2  2015-12-13          0.93     118220.22   794.70  109149.67   \n",
      "3            3  2015-12-06          1.08      78992.15  1132.00   71976.41   \n",
      "4            4  2015-11-29          1.28      51039.60   941.48   43838.39   \n",
      "5            5  2015-11-22          1.26      55979.78  1184.27   48067.99   \n",
      "6            6  2015-11-15          0.99      83453.76  1368.92   73672.72   \n",
      "7            7  2015-11-08          0.98     109428.33   703.75  101815.36   \n",
      "8            8  2015-11-01          1.02      99811.42  1022.15   87315.57   \n",
      "9            9  2015-10-25          1.07      74338.76   842.40   64757.44   \n",
      "10          10  2015-10-18          1.12      84843.44   924.86   75595.85   \n",
      "11          11  2015-10-11          1.28      64489.17  1582.03   52677.92   \n",
      "12          12  2015-10-04          1.31      61007.10  2268.32   49880.67   \n",
      "13          13  2015-09-27          0.99     106803.39  1204.88   99409.21   \n",
      "14          14  2015-09-20          1.33      69759.01  1028.03   59313.12   \n",
      "15          15  2015-09-13          1.28      76111.27   985.73   65696.86   \n",
      "16          16  2015-09-06          1.11      99172.96   879.45   90062.62   \n",
      "17          17  2015-08-30          1.07     105693.84   689.01   94362.67   \n",
      "18          18  2015-08-23          1.34      79992.09   733.16   67933.79   \n",
      "19          19  2015-08-16          1.33      80043.78   539.65   68666.01   \n",
      "20          20  2015-08-09          1.12     111140.93   584.63  100961.46   \n",
      "21          21  2015-08-02          1.45      75133.10   509.94   62035.06   \n",
      "22          22  2015-07-26          1.11     106757.10   648.75   91949.05   \n",
      "23          23  2015-07-19          1.26      96617.00  1042.10   82049.40   \n",
      "24          24  2015-07-12          1.05     124055.31   672.25   94693.52   \n",
      "25          25  2015-07-05          1.35     109252.12   869.45   72600.55   \n",
      "26          26  2015-06-28          1.37      89534.81   664.23   57545.79   \n",
      "27          27  2015-06-21          1.27     104849.39   804.01   76688.55   \n",
      "28          28  2015-06-14          1.32      89631.30   850.58   55400.94   \n",
      "29          29  2015-06-07          1.07     122743.06   656.71   99220.82   \n",
      "30          30  2015-05-31          1.23      95123.62   922.37   70469.69   \n",
      "31          31  2015-05-24          1.19     101470.91   680.27   71376.81   \n",
      "32          32  2015-05-17          1.43     109857.47  1150.55   81955.16   \n",
      "33          33  2015-05-10          1.26     120427.91  1420.43  102000.52   \n",
      "34          34  2015-05-03          1.20      59197.67   919.87   45490.05   \n",
      "35          35  2015-04-26          1.22      49585.46   875.65   35841.75   \n",
      "36          36  2015-04-19          1.19      49064.73   774.15   33941.51   \n",
      "37          37  2015-04-12          1.13      48364.29   864.27   30374.15   \n",
      "38          38  2015-04-05          1.16      47362.13   961.77   35577.66   \n",
      "39          39  2015-03-29          1.02      67799.08  1402.28   58623.22   \n",
      "\n",
      "       4770  Total Bags  Small Bags  Large Bags  XLarge Bags          type  \\\n",
      "0     48.16     8696.87     8603.62       93.25         0.00  conventional   \n",
      "1     58.33     9505.56     9408.07       97.49         0.00  conventional   \n",
      "2    130.50     8145.35     8042.21      103.14         0.00  conventional   \n",
      "3     72.58     5811.16     5677.40      133.76         0.00  conventional   \n",
      "4     75.78     6183.95     5986.26      197.69         0.00  conventional   \n",
      "5     43.61     6683.91     6556.47      127.44         0.00  conventional   \n",
      "6     93.26     8318.86     8196.81      122.05         0.00  conventional   \n",
      "7     80.00     6829.22     6266.85      562.37         0.00  conventional   \n",
      "8     85.34    11388.36    11104.53      283.83         0.00  conventional   \n",
      "9    113.00     8625.92     8061.47      564.45         0.00  conventional   \n",
      "10   117.07     8205.66     7877.86      327.80         0.00  conventional   \n",
      "11   105.32    10123.90     9866.27      257.63         0.00  conventional   \n",
      "12   101.36     8756.75     8379.98      376.77         0.00  conventional   \n",
      "13   154.84     6034.46     5888.87      145.59         0.00  conventional   \n",
      "14   150.50     9267.36     8489.10      778.26         0.00  conventional   \n",
      "15   142.00     9286.68     8665.19      621.49         0.00  conventional   \n",
      "16   240.79     7990.10     7762.87      227.23         0.00  conventional   \n",
      "17   335.43    10306.73    10218.93       87.80         0.00  conventional   \n",
      "18   444.78    10880.36    10745.79      134.57         0.00  conventional   \n",
      "19   394.90    10443.22    10297.68      145.54         0.00  conventional   \n",
      "20   368.95     9225.89     9116.34      109.55         0.00  conventional   \n",
      "21   741.08    11847.02    11768.52       78.50         0.00  conventional   \n",
      "22   966.61    13192.69    13061.53      131.16         0.00  conventional   \n",
      "23  2238.02    11287.48    11103.49      183.99         0.00  conventional   \n",
      "24  4257.64    24431.90    24290.08      108.49        33.33  conventional   \n",
      "25  5883.16    29898.96    29663.19      235.77         0.00  conventional   \n",
      "26  4662.71    26662.08    26311.76      350.32         0.00  conventional   \n",
      "27  5481.18    21875.65    21662.00      213.65         0.00  conventional   \n",
      "28  4377.19    29002.59    28343.14      659.45         0.00  conventional   \n",
      "29    90.32    22775.21    22314.99      460.22         0.00  conventional   \n",
      "30    50.55    23681.01    23222.49      458.52         0.00  conventional   \n",
      "31    58.70    29355.13    28761.81      593.32         0.00  conventional   \n",
      "32    94.32    26657.44    26285.43      372.01         0.00  conventional   \n",
      "33   185.66    16821.30    16535.55      285.75         0.00  conventional   \n",
      "34   217.24    12570.51    12201.95      368.56         0.00  conventional   \n",
      "35    89.62    12778.44    12076.83      701.61         0.00  conventional   \n",
      "36    47.15    14301.92    13602.97      698.95         0.00  conventional   \n",
      "37    21.50    17104.37    16438.49      665.88         0.00  conventional   \n",
      "38    93.76    10728.94     9869.16      755.61       104.17  conventional   \n",
      "39    89.50     7684.08     7208.49      475.59         0.00  conventional   \n",
      "\n",
      "    year  region  \n",
      "0   2015  Albany  \n",
      "1   2015  Albany  \n",
      "2   2015  Albany  \n",
      "3   2015  Albany  \n",
      "4   2015  Albany  \n",
      "5   2015  Albany  \n",
      "6   2015  Albany  \n",
      "7   2015  Albany  \n",
      "8   2015  Albany  \n",
      "9   2015  Albany  \n",
      "10  2015  Albany  \n",
      "11  2015  Albany  \n",
      "12  2015  Albany  \n",
      "13  2015  Albany  \n",
      "14  2015  Albany  \n",
      "15  2015  Albany  \n",
      "16  2015  Albany  \n",
      "17  2015  Albany  \n",
      "18  2015  Albany  \n",
      "19  2015  Albany  \n",
      "20  2015  Albany  \n",
      "21  2015  Albany  \n",
      "22  2015  Albany  \n",
      "23  2015  Albany  \n",
      "24  2015  Albany  \n",
      "25  2015  Albany  \n",
      "26  2015  Albany  \n",
      "27  2015  Albany  \n",
      "28  2015  Albany  \n",
      "29  2015  Albany  \n",
      "30  2015  Albany  \n",
      "31  2015  Albany  \n",
      "32  2015  Albany  \n",
      "33  2015  Albany  \n",
      "34  2015  Albany  \n",
      "35  2015  Albany  \n",
      "36  2015  Albany  \n",
      "37  2015  Albany  \n",
      "38  2015  Albany  \n",
      "39  2015  Albany  \n"
     ]
    }
   ],
   "source": [
    "import pandas as pd\n",
    "\n",
    "short_avo = pd.read_csv('data/avocado-short.csv')\n",
    "print(short_avo)"
   ]
  },
  {
   "cell_type": "markdown",
   "metadata": {},
   "source": [
    "You can already see that pandas has saved us quite a bit of writing. It's also super fast for large datasets and it's very well documented so when you run into issues, you'll be able to find your way out pretty quickly. And believe you me... you will absolutely run into issues. Because even people who seem to know what they're talking about (✋) need to google the heck out of things sometimes.\n",
    "\n",
    "## Interviewing Data\n",
    "\n",
    "One of the first things you're going to want to do with a dataset is figure out what you've got. We do this by using different pandas functions that allow us to \"interview\" or get an overview of the dataset.\n",
    "\n",
    "The data we used above `data/avocado-short.csv` is fun, but let's move on to a dataset a little more applicable to what we might actually us panads for."
   ]
  },
  {
   "cell_type": "code",
   "execution_count": 46,
   "metadata": {},
   "outputs": [],
   "source": [
    "#nursing home facility data\n",
    "nfacs = pd.read_csv('data/facilities.csv')"
   ]
  },
  {
   "cell_type": "markdown",
   "metadata": {},
   "source": [
    "### Interview Functions\n",
    "\n",
    "`df.head()` - get the first 5 rows of your data\n",
    "\n",
    "`df.tail()` - get the last 5 rows of your data\n",
    "\n",
    "`df.sample(5)` - get a random sampling of 5 rows of your data\n",
    "\n",
    "`df.columns` - get a list of all the columns\n",
    "\n",
    "`df.info()` - get number of rows with data and data type for each column \n",
    "\n",
    "`df.shape` - get the number of rows and columns\n",
    "\n",
    "`df.describe()` - get a variety of statistical calculations for all values in each column\n",
    "\n",
    "Let's take these functions for a spin:"
   ]
  },
  {
   "cell_type": "code",
   "execution_count": 13,
   "metadata": {},
   "outputs": [
    {
     "data": {
      "text/html": [
       "<div>\n",
       "<style scoped>\n",
       "    .dataframe tbody tr th:only-of-type {\n",
       "        vertical-align: middle;\n",
       "    }\n",
       "\n",
       "    .dataframe tbody tr th {\n",
       "        vertical-align: top;\n",
       "    }\n",
       "\n",
       "    .dataframe thead th {\n",
       "        text-align: right;\n",
       "    }\n",
       "</style>\n",
       "<table border=\"1\" class=\"dataframe\">\n",
       "  <thead>\n",
       "    <tr style=\"text-align: right;\">\n",
       "      <th></th>\n",
       "      <th>facid</th>\n",
       "      <th>fac_type</th>\n",
       "      <th>capacity</th>\n",
       "      <th>fac_name</th>\n",
       "      <th>fac_address</th>\n",
       "      <th>city_state_zip</th>\n",
       "      <th>Unnamed: 6</th>\n",
       "      <th>owner</th>\n",
       "      <th>operator</th>\n",
       "    </tr>\n",
       "  </thead>\n",
       "  <tbody>\n",
       "    <tr>\n",
       "      <th>0</th>\n",
       "      <td>385008</td>\n",
       "      <td>NF</td>\n",
       "      <td>96.0</td>\n",
       "      <td>Presbyterian Community Care Center</td>\n",
       "      <td>1085 N Oregon St</td>\n",
       "      <td>Ontario, OR 97914</td>\n",
       "      <td>NaN</td>\n",
       "      <td>Presbyterian Nursing Home, Inc.</td>\n",
       "      <td>Presbyterian Nursing Home, Inc.</td>\n",
       "    </tr>\n",
       "    <tr>\n",
       "      <th>1</th>\n",
       "      <td>385010</td>\n",
       "      <td>NF</td>\n",
       "      <td>159.0</td>\n",
       "      <td>Laurelhurst Village Rehabilitation Center</td>\n",
       "      <td>3060 SE Stark St</td>\n",
       "      <td>Portland, OR 97214</td>\n",
       "      <td>NaN</td>\n",
       "      <td>Laurelhurst Operations, LLC</td>\n",
       "      <td>Laurelhurst Operations, LLC</td>\n",
       "    </tr>\n",
       "    <tr>\n",
       "      <th>2</th>\n",
       "      <td>385015</td>\n",
       "      <td>NF</td>\n",
       "      <td>128.0</td>\n",
       "      <td>Regency Gresham Nursing &amp; Rehabilitation Center</td>\n",
       "      <td>5905 SE Powell Valley Rd</td>\n",
       "      <td>Gresham, OR 97080</td>\n",
       "      <td>NaN</td>\n",
       "      <td>Regency Gresham Nursing &amp; Rehabilitation Cente...</td>\n",
       "      <td>Regency Pacific Management, LLC</td>\n",
       "    </tr>\n",
       "    <tr>\n",
       "      <th>3</th>\n",
       "      <td>385018</td>\n",
       "      <td>NF</td>\n",
       "      <td>98.0</td>\n",
       "      <td>Providence Benedictine Nursing Center</td>\n",
       "      <td>540 South Main St</td>\n",
       "      <td>Mt. Angel, OR 97362</td>\n",
       "      <td>NaN</td>\n",
       "      <td>Providence Health &amp; Services - Oregon</td>\n",
       "      <td>Providence Health &amp; Services - Oregon</td>\n",
       "    </tr>\n",
       "    <tr>\n",
       "      <th>4</th>\n",
       "      <td>385024</td>\n",
       "      <td>NF</td>\n",
       "      <td>91.0</td>\n",
       "      <td>Avamere Health Services of Rogue Valley</td>\n",
       "      <td>625 Stevens St</td>\n",
       "      <td>Medford, OR 97504</td>\n",
       "      <td>NaN</td>\n",
       "      <td>Medford Operations, LLC</td>\n",
       "      <td>Medford Operations, LLC</td>\n",
       "    </tr>\n",
       "  </tbody>\n",
       "</table>\n",
       "</div>"
      ],
      "text/plain": [
       "    facid fac_type  capacity                                         fac_name  \\\n",
       "0  385008       NF      96.0               Presbyterian Community Care Center   \n",
       "1  385010       NF     159.0        Laurelhurst Village Rehabilitation Center   \n",
       "2  385015       NF     128.0  Regency Gresham Nursing & Rehabilitation Center   \n",
       "3  385018       NF      98.0            Providence Benedictine Nursing Center   \n",
       "4  385024       NF      91.0          Avamere Health Services of Rogue Valley   \n",
       "\n",
       "                fac_address       city_state_zip  Unnamed: 6  \\\n",
       "0          1085 N Oregon St    Ontario, OR 97914         NaN   \n",
       "1          3060 SE Stark St   Portland, OR 97214         NaN   \n",
       "2  5905 SE Powell Valley Rd    Gresham, OR 97080         NaN   \n",
       "3         540 South Main St  Mt. Angel, OR 97362         NaN   \n",
       "4            625 Stevens St    Medford, OR 97504         NaN   \n",
       "\n",
       "                                               owner  \\\n",
       "0                    Presbyterian Nursing Home, Inc.   \n",
       "1                        Laurelhurst Operations, LLC   \n",
       "2  Regency Gresham Nursing & Rehabilitation Cente...   \n",
       "3              Providence Health & Services - Oregon   \n",
       "4                            Medford Operations, LLC   \n",
       "\n",
       "                                operator  \n",
       "0        Presbyterian Nursing Home, Inc.  \n",
       "1            Laurelhurst Operations, LLC  \n",
       "2        Regency Pacific Management, LLC  \n",
       "3  Providence Health & Services - Oregon  \n",
       "4                Medford Operations, LLC  "
      ]
     },
     "execution_count": 13,
     "metadata": {},
     "output_type": "execute_result"
    }
   ],
   "source": [
    "nfacs.head()"
   ]
  },
  {
   "cell_type": "code",
   "execution_count": 14,
   "metadata": {},
   "outputs": [
    {
     "data": {
      "text/html": [
       "<div>\n",
       "<style scoped>\n",
       "    .dataframe tbody tr th:only-of-type {\n",
       "        vertical-align: middle;\n",
       "    }\n",
       "\n",
       "    .dataframe tbody tr th {\n",
       "        vertical-align: top;\n",
       "    }\n",
       "\n",
       "    .dataframe thead th {\n",
       "        text-align: right;\n",
       "    }\n",
       "</style>\n",
       "<table border=\"1\" class=\"dataframe\">\n",
       "  <thead>\n",
       "    <tr style=\"text-align: right;\">\n",
       "      <th></th>\n",
       "      <th>facid</th>\n",
       "      <th>fac_type</th>\n",
       "      <th>capacity</th>\n",
       "      <th>fac_name</th>\n",
       "      <th>fac_address</th>\n",
       "      <th>city_state_zip</th>\n",
       "      <th>Unnamed: 6</th>\n",
       "      <th>owner</th>\n",
       "      <th>operator</th>\n",
       "    </tr>\n",
       "  </thead>\n",
       "  <tbody>\n",
       "    <tr>\n",
       "      <th>639</th>\n",
       "      <td>70M258</td>\n",
       "      <td>ALF</td>\n",
       "      <td>70.0</td>\n",
       "      <td>Avamere Living at St. Helens</td>\n",
       "      <td>2400 Gable Rd.</td>\n",
       "      <td>St. Helens, OR 97051</td>\n",
       "      <td>NaN</td>\n",
       "      <td>Avamere - St. Helens Operations, LLC</td>\n",
       "      <td>Avamere-St.Helens Operations, LLC</td>\n",
       "    </tr>\n",
       "    <tr>\n",
       "      <th>640</th>\n",
       "      <td>70M313</td>\n",
       "      <td>ALF</td>\n",
       "      <td>84.0</td>\n",
       "      <td>Springs at Tanasbourne II, LLC</td>\n",
       "      <td>1950 NW 192nd Avenue</td>\n",
       "      <td>Hillsboro, OR 97124</td>\n",
       "      <td>NaN</td>\n",
       "      <td>Springs at Tanasbourne II, LLC</td>\n",
       "      <td>The Springs Living, LLC</td>\n",
       "    </tr>\n",
       "    <tr>\n",
       "      <th>641</th>\n",
       "      <td>70M350</td>\n",
       "      <td>ALF</td>\n",
       "      <td>119.0</td>\n",
       "      <td>Village at Keizer Ridge, The</td>\n",
       "      <td>1165 McGee Court</td>\n",
       "      <td>Keizer, OR 97303</td>\n",
       "      <td>NaN</td>\n",
       "      <td>VKR, LLC</td>\n",
       "      <td>Keizer Care Properties, LLC</td>\n",
       "    </tr>\n",
       "    <tr>\n",
       "      <th>642</th>\n",
       "      <td>7MU215</td>\n",
       "      <td>ALF</td>\n",
       "      <td>126.0</td>\n",
       "      <td>St. Anthony Village</td>\n",
       "      <td>3560 SE 79th Avenue</td>\n",
       "      <td>Portland, OR 97206</td>\n",
       "      <td>NaN</td>\n",
       "      <td>St. Anthony Village Associates LP</td>\n",
       "      <td>SAGE</td>\n",
       "    </tr>\n",
       "    <tr>\n",
       "      <th>643</th>\n",
       "      <td>0O0O0O</td>\n",
       "      <td>NaN</td>\n",
       "      <td>57.0</td>\n",
       "      <td>Fake Facility</td>\n",
       "      <td>1234 Fake St</td>\n",
       "      <td>Nowheresville, NY 05400</td>\n",
       "      <td>NaN</td>\n",
       "      <td>Fake Company</td>\n",
       "      <td>Not a Company, LLC</td>\n",
       "    </tr>\n",
       "  </tbody>\n",
       "</table>\n",
       "</div>"
      ],
      "text/plain": [
       "      facid fac_type  capacity                        fac_name  \\\n",
       "639  70M258      ALF      70.0    Avamere Living at St. Helens   \n",
       "640  70M313      ALF      84.0  Springs at Tanasbourne II, LLC   \n",
       "641  70M350      ALF     119.0    Village at Keizer Ridge, The   \n",
       "642  7MU215      ALF     126.0             St. Anthony Village   \n",
       "643  0O0O0O      NaN      57.0                   Fake Facility   \n",
       "\n",
       "              fac_address           city_state_zip  Unnamed: 6  \\\n",
       "639        2400 Gable Rd.     St. Helens, OR 97051         NaN   \n",
       "640  1950 NW 192nd Avenue      Hillsboro, OR 97124         NaN   \n",
       "641      1165 McGee Court         Keizer, OR 97303         NaN   \n",
       "642   3560 SE 79th Avenue       Portland, OR 97206         NaN   \n",
       "643          1234 Fake St  Nowheresville, NY 05400         NaN   \n",
       "\n",
       "                                    owner                           operator  \n",
       "639  Avamere - St. Helens Operations, LLC  Avamere-St.Helens Operations, LLC  \n",
       "640        Springs at Tanasbourne II, LLC            The Springs Living, LLC  \n",
       "641                              VKR, LLC        Keizer Care Properties, LLC  \n",
       "642     St. Anthony Village Associates LP                               SAGE  \n",
       "643                          Fake Company                 Not a Company, LLC  "
      ]
     },
     "execution_count": 14,
     "metadata": {},
     "output_type": "execute_result"
    }
   ],
   "source": [
    "nfacs.tail()"
   ]
  },
  {
   "cell_type": "code",
   "execution_count": 15,
   "metadata": {},
   "outputs": [
    {
     "data": {
      "text/html": [
       "<div>\n",
       "<style scoped>\n",
       "    .dataframe tbody tr th:only-of-type {\n",
       "        vertical-align: middle;\n",
       "    }\n",
       "\n",
       "    .dataframe tbody tr th {\n",
       "        vertical-align: top;\n",
       "    }\n",
       "\n",
       "    .dataframe thead th {\n",
       "        text-align: right;\n",
       "    }\n",
       "</style>\n",
       "<table border=\"1\" class=\"dataframe\">\n",
       "  <thead>\n",
       "    <tr style=\"text-align: right;\">\n",
       "      <th></th>\n",
       "      <th>facid</th>\n",
       "      <th>fac_type</th>\n",
       "      <th>capacity</th>\n",
       "      <th>fac_name</th>\n",
       "      <th>fac_address</th>\n",
       "      <th>city_state_zip</th>\n",
       "      <th>Unnamed: 6</th>\n",
       "      <th>owner</th>\n",
       "      <th>operator</th>\n",
       "    </tr>\n",
       "  </thead>\n",
       "  <tbody>\n",
       "    <tr>\n",
       "      <th>129</th>\n",
       "      <td>3.80E+189</td>\n",
       "      <td>NF</td>\n",
       "      <td>80.0</td>\n",
       "      <td>Gracelen Terrace Long Term Care Facility</td>\n",
       "      <td>10948 SE Boise St</td>\n",
       "      <td>Portland, OR 97266</td>\n",
       "      <td>NaN</td>\n",
       "      <td>H &amp; L Care Centers, Inc.</td>\n",
       "      <td>H &amp; L Care Centers, Inc.</td>\n",
       "    </tr>\n",
       "    <tr>\n",
       "      <th>333</th>\n",
       "      <td>50R380</td>\n",
       "      <td>RCF</td>\n",
       "      <td>20.0</td>\n",
       "      <td>Countryside Living South</td>\n",
       "      <td>406 NW 2nd Avenue</td>\n",
       "      <td>Canby, OR 97013</td>\n",
       "      <td>NaN</td>\n",
       "      <td>Countryside Living of Canby, LLC</td>\n",
       "      <td>Countryside Living of Canby, LLC</td>\n",
       "    </tr>\n",
       "    <tr>\n",
       "      <th>506</th>\n",
       "      <td>70M008</td>\n",
       "      <td>ALF</td>\n",
       "      <td>49.0</td>\n",
       "      <td>Awbrey Place</td>\n",
       "      <td>2825 Neff Rd</td>\n",
       "      <td>Bend, OR 97701</td>\n",
       "      <td>NaN</td>\n",
       "      <td>AWBREY AID OPCO, LLC</td>\n",
       "      <td>AWBREY AID OPCO, LLC</td>\n",
       "    </tr>\n",
       "    <tr>\n",
       "      <th>156</th>\n",
       "      <td>50M055</td>\n",
       "      <td>RCF</td>\n",
       "      <td>88.0</td>\n",
       "      <td>Brookdale Mt. Hood</td>\n",
       "      <td>25200 SE Stark St</td>\n",
       "      <td>Gresham, OR 97030</td>\n",
       "      <td>NaN</td>\n",
       "      <td>Brookdale Senior Living Communities, Inc.</td>\n",
       "      <td>Brookdale Senior Living Communities, Inc.</td>\n",
       "    </tr>\n",
       "    <tr>\n",
       "      <th>241</th>\n",
       "      <td>50R271</td>\n",
       "      <td>RCF</td>\n",
       "      <td>21.0</td>\n",
       "      <td>Willamette View Memory Care Community</td>\n",
       "      <td>13145 SE River Rd</td>\n",
       "      <td>Portland, OR 97222</td>\n",
       "      <td>NaN</td>\n",
       "      <td>Willamette View, Inc.</td>\n",
       "      <td>Willamette View, Inc.</td>\n",
       "    </tr>\n",
       "  </tbody>\n",
       "</table>\n",
       "</div>"
      ],
      "text/plain": [
       "         facid fac_type  capacity                                  fac_name  \\\n",
       "129  3.80E+189       NF      80.0  Gracelen Terrace Long Term Care Facility   \n",
       "333     50R380      RCF      20.0                  Countryside Living South   \n",
       "506     70M008      ALF      49.0                              Awbrey Place   \n",
       "156     50M055      RCF      88.0                        Brookdale Mt. Hood   \n",
       "241     50R271      RCF      21.0     Willamette View Memory Care Community   \n",
       "\n",
       "           fac_address      city_state_zip  Unnamed: 6  \\\n",
       "129  10948 SE Boise St  Portland, OR 97266         NaN   \n",
       "333  406 NW 2nd Avenue     Canby, OR 97013         NaN   \n",
       "506       2825 Neff Rd      Bend, OR 97701         NaN   \n",
       "156  25200 SE Stark St   Gresham, OR 97030         NaN   \n",
       "241  13145 SE River Rd  Portland, OR 97222         NaN   \n",
       "\n",
       "                                         owner  \\\n",
       "129                   H & L Care Centers, Inc.   \n",
       "333           Countryside Living of Canby, LLC   \n",
       "506                       AWBREY AID OPCO, LLC   \n",
       "156  Brookdale Senior Living Communities, Inc.   \n",
       "241                      Willamette View, Inc.   \n",
       "\n",
       "                                      operator  \n",
       "129                   H & L Care Centers, Inc.  \n",
       "333           Countryside Living of Canby, LLC  \n",
       "506                       AWBREY AID OPCO, LLC  \n",
       "156  Brookdale Senior Living Communities, Inc.  \n",
       "241                      Willamette View, Inc.  "
      ]
     },
     "execution_count": 15,
     "metadata": {},
     "output_type": "execute_result"
    }
   ],
   "source": [
    "nfacs.sample(5)"
   ]
  },
  {
   "cell_type": "code",
   "execution_count": 16,
   "metadata": {},
   "outputs": [
    {
     "data": {
      "text/plain": [
       "Index(['facid', 'fac_type', 'capacity', 'fac_name', 'fac_address',\n",
       "       'city_state_zip', 'Unnamed: 6', 'owner', 'operator'],\n",
       "      dtype='object')"
      ]
     },
     "execution_count": 16,
     "metadata": {},
     "output_type": "execute_result"
    }
   ],
   "source": [
    "nfacs.columns"
   ]
  },
  {
   "cell_type": "code",
   "execution_count": 17,
   "metadata": {},
   "outputs": [
    {
     "name": "stdout",
     "output_type": "stream",
     "text": [
      "<class 'pandas.core.frame.DataFrame'>\n",
      "RangeIndex: 644 entries, 0 to 643\n",
      "Data columns (total 9 columns):\n",
      "facid             644 non-null object\n",
      "fac_type          642 non-null object\n",
      "capacity          642 non-null float64\n",
      "fac_name          644 non-null object\n",
      "fac_address       644 non-null object\n",
      "city_state_zip    644 non-null object\n",
      "Unnamed: 6        0 non-null float64\n",
      "owner             644 non-null object\n",
      "operator          644 non-null object\n",
      "dtypes: float64(2), object(7)\n",
      "memory usage: 45.4+ KB\n"
     ]
    }
   ],
   "source": [
    "nfacs.info()"
   ]
  },
  {
   "cell_type": "code",
   "execution_count": 19,
   "metadata": {},
   "outputs": [
    {
     "data": {
      "text/plain": [
       "(644, 9)"
      ]
     },
     "execution_count": 19,
     "metadata": {},
     "output_type": "execute_result"
    }
   ],
   "source": [
    "nfacs.shape"
   ]
  },
  {
   "cell_type": "code",
   "execution_count": 22,
   "metadata": {},
   "outputs": [
    {
     "data": {
      "text/html": [
       "<div>\n",
       "<style scoped>\n",
       "    .dataframe tbody tr th:only-of-type {\n",
       "        vertical-align: middle;\n",
       "    }\n",
       "\n",
       "    .dataframe tbody tr th {\n",
       "        vertical-align: top;\n",
       "    }\n",
       "\n",
       "    .dataframe thead th {\n",
       "        text-align: right;\n",
       "    }\n",
       "</style>\n",
       "<table border=\"1\" class=\"dataframe\">\n",
       "  <thead>\n",
       "    <tr style=\"text-align: right;\">\n",
       "      <th></th>\n",
       "      <th>capacity</th>\n",
       "      <th>Unnamed: 6</th>\n",
       "    </tr>\n",
       "  </thead>\n",
       "  <tbody>\n",
       "    <tr>\n",
       "      <th>count</th>\n",
       "      <td>642.000000</td>\n",
       "      <td>0.0</td>\n",
       "    </tr>\n",
       "    <tr>\n",
       "      <th>mean</th>\n",
       "      <td>57.551402</td>\n",
       "      <td>NaN</td>\n",
       "    </tr>\n",
       "    <tr>\n",
       "      <th>std</th>\n",
       "      <td>34.196204</td>\n",
       "      <td>NaN</td>\n",
       "    </tr>\n",
       "    <tr>\n",
       "      <th>min</th>\n",
       "      <td>5.000000</td>\n",
       "      <td>NaN</td>\n",
       "    </tr>\n",
       "    <tr>\n",
       "      <th>25%</th>\n",
       "      <td>30.000000</td>\n",
       "      <td>NaN</td>\n",
       "    </tr>\n",
       "    <tr>\n",
       "      <th>50%</th>\n",
       "      <td>53.000000</td>\n",
       "      <td>NaN</td>\n",
       "    </tr>\n",
       "    <tr>\n",
       "      <th>75%</th>\n",
       "      <td>79.000000</td>\n",
       "      <td>NaN</td>\n",
       "    </tr>\n",
       "    <tr>\n",
       "      <th>max</th>\n",
       "      <td>214.000000</td>\n",
       "      <td>NaN</td>\n",
       "    </tr>\n",
       "  </tbody>\n",
       "</table>\n",
       "</div>"
      ],
      "text/plain": [
       "         capacity  Unnamed: 6\n",
       "count  642.000000         0.0\n",
       "mean    57.551402         NaN\n",
       "std     34.196204         NaN\n",
       "min      5.000000         NaN\n",
       "25%     30.000000         NaN\n",
       "50%     53.000000         NaN\n",
       "75%     79.000000         NaN\n",
       "max    214.000000         NaN"
      ]
     },
     "execution_count": 22,
     "metadata": {},
     "output_type": "execute_result"
    }
   ],
   "source": [
    "nfacs.describe()"
   ]
  },
  {
   "cell_type": "markdown",
   "metadata": {},
   "source": [
    "You might notice that we only got back information on two of our columns here. `df.describe()` only works on numeric columns.\n",
    "\n",
    "## Asking Questions\n",
    "At this point, we can start asking questions of our data. \n",
    "\n",
    "- Which facility has the largest capacity?\n",
    "- What is the average/max/min capacity for all facilities?\n",
    "- How many facilities of each type are there?\n",
    "- How many facilities does each state have?\n",
    "\n",
    "### Which facility has the largest capacity?"
   ]
  },
  {
   "cell_type": "code",
   "execution_count": 24,
   "metadata": {},
   "outputs": [
    {
     "data": {
      "text/html": [
       "<div>\n",
       "<style scoped>\n",
       "    .dataframe tbody tr th:only-of-type {\n",
       "        vertical-align: middle;\n",
       "    }\n",
       "\n",
       "    .dataframe tbody tr th {\n",
       "        vertical-align: top;\n",
       "    }\n",
       "\n",
       "    .dataframe thead th {\n",
       "        text-align: right;\n",
       "    }\n",
       "</style>\n",
       "<table border=\"1\" class=\"dataframe\">\n",
       "  <thead>\n",
       "    <tr style=\"text-align: right;\">\n",
       "      <th></th>\n",
       "      <th>facid</th>\n",
       "      <th>fac_type</th>\n",
       "      <th>capacity</th>\n",
       "      <th>fac_name</th>\n",
       "      <th>fac_address</th>\n",
       "      <th>city_state_zip</th>\n",
       "      <th>Unnamed: 6</th>\n",
       "      <th>owner</th>\n",
       "      <th>operator</th>\n",
       "    </tr>\n",
       "  </thead>\n",
       "  <tbody>\n",
       "    <tr>\n",
       "      <th>93</th>\n",
       "      <td>385240</td>\n",
       "      <td>NF</td>\n",
       "      <td>214.0</td>\n",
       "      <td>Marian Estates</td>\n",
       "      <td>390 Church St</td>\n",
       "      <td>Sublimity, OR 97385</td>\n",
       "      <td>NaN</td>\n",
       "      <td>Ernmaur, Inc.</td>\n",
       "      <td>Marian Estates Support Services</td>\n",
       "    </tr>\n",
       "    <tr>\n",
       "      <th>259</th>\n",
       "      <td>50R293</td>\n",
       "      <td>RCF</td>\n",
       "      <td>186.0</td>\n",
       "      <td>Miramont Pointe</td>\n",
       "      <td>11520 SE Sunnyside Rd</td>\n",
       "      <td>Clackamas, OR 97015</td>\n",
       "      <td>NaN</td>\n",
       "      <td>MP, LLC</td>\n",
       "      <td>MP, LLC</td>\n",
       "    </tr>\n",
       "    <tr>\n",
       "      <th>571</th>\n",
       "      <td>70M080</td>\n",
       "      <td>ALF</td>\n",
       "      <td>180.0</td>\n",
       "      <td>Rose Schnitzer Manor</td>\n",
       "      <td>6140 SW Boundary St</td>\n",
       "      <td>Portland, OR 97221</td>\n",
       "      <td>NaN</td>\n",
       "      <td>Robison Jewish Home</td>\n",
       "      <td>Robison Jewish Home</td>\n",
       "    </tr>\n",
       "    <tr>\n",
       "      <th>20</th>\n",
       "      <td>385112</td>\n",
       "      <td>NF</td>\n",
       "      <td>180.0</td>\n",
       "      <td>West Hills Health &amp; Rehabilitation Center</td>\n",
       "      <td>5701 SW Multnomah Blvd</td>\n",
       "      <td>Portland, OR 97219</td>\n",
       "      <td>NaN</td>\n",
       "      <td>West Hills Convalescent Center Limited Partner...</td>\n",
       "      <td>West Hills Convalescent Center Limited Partner...</td>\n",
       "    </tr>\n",
       "    <tr>\n",
       "      <th>50</th>\n",
       "      <td>385166</td>\n",
       "      <td>NF</td>\n",
       "      <td>165.0</td>\n",
       "      <td>Maryville Nursing Home</td>\n",
       "      <td>14645 SW Farmington Rd</td>\n",
       "      <td>Beaverton, OR 97007</td>\n",
       "      <td>NaN</td>\n",
       "      <td>Sisters of St. Mary of Oregon Maryville Corp.</td>\n",
       "      <td>Sisters of St. Mary of Oregon Maryville Corp.</td>\n",
       "    </tr>\n",
       "  </tbody>\n",
       "</table>\n",
       "</div>"
      ],
      "text/plain": [
       "      facid fac_type  capacity                                   fac_name  \\\n",
       "93   385240       NF     214.0                             Marian Estates   \n",
       "259  50R293      RCF     186.0                            Miramont Pointe   \n",
       "571  70M080      ALF     180.0                       Rose Schnitzer Manor   \n",
       "20   385112       NF     180.0  West Hills Health & Rehabilitation Center   \n",
       "50   385166       NF     165.0                     Maryville Nursing Home   \n",
       "\n",
       "                fac_address       city_state_zip  Unnamed: 6  \\\n",
       "93            390 Church St  Sublimity, OR 97385         NaN   \n",
       "259   11520 SE Sunnyside Rd  Clackamas, OR 97015         NaN   \n",
       "571     6140 SW Boundary St   Portland, OR 97221         NaN   \n",
       "20   5701 SW Multnomah Blvd   Portland, OR 97219         NaN   \n",
       "50   14645 SW Farmington Rd  Beaverton, OR 97007         NaN   \n",
       "\n",
       "                                                 owner  \\\n",
       "93                                       Ernmaur, Inc.   \n",
       "259                                            MP, LLC   \n",
       "571                                Robison Jewish Home   \n",
       "20   West Hills Convalescent Center Limited Partner...   \n",
       "50       Sisters of St. Mary of Oregon Maryville Corp.   \n",
       "\n",
       "                                              operator  \n",
       "93                     Marian Estates Support Services  \n",
       "259                                            MP, LLC  \n",
       "571                                Robison Jewish Home  \n",
       "20   West Hills Convalescent Center Limited Partner...  \n",
       "50       Sisters of St. Mary of Oregon Maryville Corp.  "
      ]
     },
     "execution_count": 24,
     "metadata": {},
     "output_type": "execute_result"
    }
   ],
   "source": [
    "nfacs.sort_values('capacity', ascending=False).head()"
   ]
  },
  {
   "cell_type": "markdown",
   "metadata": {},
   "source": [
    "### What is the average/max/min capacity for all facilities?"
   ]
  },
  {
   "cell_type": "code",
   "execution_count": 25,
   "metadata": {},
   "outputs": [
    {
     "data": {
      "text/plain": [
       "53.0"
      ]
     },
     "execution_count": 25,
     "metadata": {},
     "output_type": "execute_result"
    }
   ],
   "source": [
    "nfacs.capacity.median()"
   ]
  },
  {
   "cell_type": "code",
   "execution_count": 26,
   "metadata": {},
   "outputs": [
    {
     "data": {
      "text/plain": [
       "214.0"
      ]
     },
     "execution_count": 26,
     "metadata": {},
     "output_type": "execute_result"
    }
   ],
   "source": [
    "nfacs.capacity.max()"
   ]
  },
  {
   "cell_type": "code",
   "execution_count": 27,
   "metadata": {},
   "outputs": [
    {
     "data": {
      "text/plain": [
       "5.0"
      ]
     },
     "execution_count": 27,
     "metadata": {},
     "output_type": "execute_result"
    }
   ],
   "source": [
    "nfacs.capacity.min()"
   ]
  },
  {
   "cell_type": "markdown",
   "metadata": {},
   "source": [
    "### How many facilities of each type are there?"
   ]
  },
  {
   "cell_type": "code",
   "execution_count": 30,
   "metadata": {},
   "outputs": [
    {
     "data": {
      "text/plain": [
       "fac_type\n",
       "ALF    221\n",
       "NF     137\n",
       "RCF    284\n",
       "Name: facid, dtype: int64"
      ]
     },
     "execution_count": 30,
     "metadata": {},
     "output_type": "execute_result"
    }
   ],
   "source": [
    "nfacs.groupby('fac_type').facid.agg('count')"
   ]
  },
  {
   "cell_type": "markdown",
   "metadata": {},
   "source": [
    "### How many facilities does each state have?\n",
    "In order to determine this, we're going to have to separate out the state value from the column `city_state_zip`. Since excel was my first analysis tool, I always think \"How would I do this in excel?\" first. I would probably write an excel function that would first separate out the state and the zip and then I would break that new column apart at the space. We can do that in python too!"
   ]
  },
  {
   "cell_type": "code",
   "execution_count": 47,
   "metadata": {},
   "outputs": [
    {
     "data": {
      "text/html": [
       "<div>\n",
       "<style scoped>\n",
       "    .dataframe tbody tr th:only-of-type {\n",
       "        vertical-align: middle;\n",
       "    }\n",
       "\n",
       "    .dataframe tbody tr th {\n",
       "        vertical-align: top;\n",
       "    }\n",
       "\n",
       "    .dataframe thead th {\n",
       "        text-align: right;\n",
       "    }\n",
       "</style>\n",
       "<table border=\"1\" class=\"dataframe\">\n",
       "  <thead>\n",
       "    <tr style=\"text-align: right;\">\n",
       "      <th></th>\n",
       "      <th>facid</th>\n",
       "      <th>fac_type</th>\n",
       "      <th>capacity</th>\n",
       "      <th>fac_name</th>\n",
       "      <th>fac_address</th>\n",
       "      <th>city_state_zip</th>\n",
       "      <th>Unnamed: 6</th>\n",
       "      <th>owner</th>\n",
       "      <th>operator</th>\n",
       "      <th>state</th>\n",
       "    </tr>\n",
       "  </thead>\n",
       "  <tbody>\n",
       "    <tr>\n",
       "      <th>0</th>\n",
       "      <td>385008</td>\n",
       "      <td>NF</td>\n",
       "      <td>96.0</td>\n",
       "      <td>Presbyterian Community Care Center</td>\n",
       "      <td>1085 N Oregon St</td>\n",
       "      <td>Ontario, OR 97914</td>\n",
       "      <td>NaN</td>\n",
       "      <td>Presbyterian Nursing Home, Inc.</td>\n",
       "      <td>Presbyterian Nursing Home, Inc.</td>\n",
       "      <td>OR</td>\n",
       "    </tr>\n",
       "    <tr>\n",
       "      <th>1</th>\n",
       "      <td>385010</td>\n",
       "      <td>NF</td>\n",
       "      <td>159.0</td>\n",
       "      <td>Laurelhurst Village Rehabilitation Center</td>\n",
       "      <td>3060 SE Stark St</td>\n",
       "      <td>Portland, OR 97214</td>\n",
       "      <td>NaN</td>\n",
       "      <td>Laurelhurst Operations, LLC</td>\n",
       "      <td>Laurelhurst Operations, LLC</td>\n",
       "      <td>OR</td>\n",
       "    </tr>\n",
       "    <tr>\n",
       "      <th>2</th>\n",
       "      <td>385015</td>\n",
       "      <td>NF</td>\n",
       "      <td>128.0</td>\n",
       "      <td>Regency Gresham Nursing &amp; Rehabilitation Center</td>\n",
       "      <td>5905 SE Powell Valley Rd</td>\n",
       "      <td>Gresham, OR 97080</td>\n",
       "      <td>NaN</td>\n",
       "      <td>Regency Gresham Nursing &amp; Rehabilitation Cente...</td>\n",
       "      <td>Regency Pacific Management, LLC</td>\n",
       "      <td>OR</td>\n",
       "    </tr>\n",
       "    <tr>\n",
       "      <th>3</th>\n",
       "      <td>385018</td>\n",
       "      <td>NF</td>\n",
       "      <td>98.0</td>\n",
       "      <td>Providence Benedictine Nursing Center</td>\n",
       "      <td>540 South Main St</td>\n",
       "      <td>Mt. Angel, OR 97362</td>\n",
       "      <td>NaN</td>\n",
       "      <td>Providence Health &amp; Services - Oregon</td>\n",
       "      <td>Providence Health &amp; Services - Oregon</td>\n",
       "      <td>OR</td>\n",
       "    </tr>\n",
       "    <tr>\n",
       "      <th>4</th>\n",
       "      <td>385024</td>\n",
       "      <td>NF</td>\n",
       "      <td>91.0</td>\n",
       "      <td>Avamere Health Services of Rogue Valley</td>\n",
       "      <td>625 Stevens St</td>\n",
       "      <td>Medford, OR 97504</td>\n",
       "      <td>NaN</td>\n",
       "      <td>Medford Operations, LLC</td>\n",
       "      <td>Medford Operations, LLC</td>\n",
       "      <td>OR</td>\n",
       "    </tr>\n",
       "  </tbody>\n",
       "</table>\n",
       "</div>"
      ],
      "text/plain": [
       "    facid fac_type  capacity                                         fac_name  \\\n",
       "0  385008       NF      96.0               Presbyterian Community Care Center   \n",
       "1  385010       NF     159.0        Laurelhurst Village Rehabilitation Center   \n",
       "2  385015       NF     128.0  Regency Gresham Nursing & Rehabilitation Center   \n",
       "3  385018       NF      98.0            Providence Benedictine Nursing Center   \n",
       "4  385024       NF      91.0          Avamere Health Services of Rogue Valley   \n",
       "\n",
       "                fac_address       city_state_zip  Unnamed: 6  \\\n",
       "0          1085 N Oregon St    Ontario, OR 97914         NaN   \n",
       "1          3060 SE Stark St   Portland, OR 97214         NaN   \n",
       "2  5905 SE Powell Valley Rd    Gresham, OR 97080         NaN   \n",
       "3         540 South Main St  Mt. Angel, OR 97362         NaN   \n",
       "4            625 Stevens St    Medford, OR 97504         NaN   \n",
       "\n",
       "                                               owner  \\\n",
       "0                    Presbyterian Nursing Home, Inc.   \n",
       "1                        Laurelhurst Operations, LLC   \n",
       "2  Regency Gresham Nursing & Rehabilitation Cente...   \n",
       "3              Providence Health & Services - Oregon   \n",
       "4                            Medford Operations, LLC   \n",
       "\n",
       "                                operator state  \n",
       "0        Presbyterian Nursing Home, Inc.    OR  \n",
       "1            Laurelhurst Operations, LLC    OR  \n",
       "2        Regency Pacific Management, LLC    OR  \n",
       "3  Providence Health & Services - Oregon    OR  \n",
       "4                Medford Operations, LLC    OR  "
      ]
     },
     "execution_count": 47,
     "metadata": {},
     "output_type": "execute_result"
    }
   ],
   "source": [
    "# separate beginning of entry to comma\n",
    "nfacs['state'] = (nfacs['city_state_zip'].str[-8:]).str.split(\" \").str[0]\n",
    "nfacs.head()"
   ]
  },
  {
   "cell_type": "markdown",
   "metadata": {},
   "source": [
    "Now we can use the `df.groupby()` function we learned last step and see how many facilities are in each state in our dataset."
   ]
  },
  {
   "cell_type": "code",
   "execution_count": 48,
   "metadata": {},
   "outputs": [
    {
     "data": {
      "text/plain": [
       "state\n",
       "NY      1\n",
       "OR    643\n",
       "Name: facid, dtype: int64"
      ]
     },
     "execution_count": 48,
     "metadata": {},
     "output_type": "execute_result"
    }
   ],
   "source": [
    "nfacs.groupby('state').facid.agg('count')"
   ]
  },
  {
   "cell_type": "markdown",
   "metadata": {},
   "source": [
    "### More than one way to peel a potato 🐈👍\n",
    "I think it's important at this point to let you know that there are often a variety of different ways to do any one thing. Pandas is like life, y'all. \n",
    "\n",
    "In your travels, you might find that you need to use [`.eval()`](https://pandas.pydata.org/pandas-docs/stable/reference/api/pandas.DataFrame.eval.html) to compute a new value. That's fine. Depending on what you need to do, maybe that's better. \n",
    "\n",
    "Or maybe you need [.apply()](https://pandas.pydata.org/pandas-docs/stable/reference/api/pandas.DataFrame.apply.html) or [.map()](https://pandas.pydata.org/pandas-docs/stable/reference/api/pandas.Series.map.html). \n",
    "\n",
    "As you gain more experience, and deal with more error messages, you'll learn when you need which function."
   ]
  },
  {
   "cell_type": "markdown",
   "metadata": {},
   "source": [
    "## Filtering\n",
    "One way to filter your dataset is by grabbing only certain values that are **equal to** some other value. \n",
    "\n",
    "Let's get rid of that one NY record:"
   ]
  },
  {
   "cell_type": "code",
   "execution_count": 52,
   "metadata": {},
   "outputs": [
    {
     "data": {
      "text/plain": [
       "array(['OR'], dtype=object)"
      ]
     },
     "execution_count": 52,
     "metadata": {},
     "output_type": "execute_result"
    }
   ],
   "source": [
    "or_nfacs = nfacs[nfacs['state'] == 'OR']\n",
    "or_nfacs.state.unique()"
   ]
  },
  {
   "cell_type": "markdown",
   "metadata": {},
   "source": [
    "You can also filter on as sliding scale of comparison. \n",
    "\n",
    "Let's grab all of the facilities that have more than a 10 bed capacity:"
   ]
  },
  {
   "cell_type": "code",
   "execution_count": null,
   "metadata": {},
   "outputs": [],
   "source": [
    "large_nfacs = nfacs[n]"
   ]
  }
 ],
 "metadata": {
  "kernelspec": {
   "display_name": "Python 3",
   "language": "python",
   "name": "python3"
  },
  "language_info": {
   "codemirror_mode": {
    "name": "ipython",
    "version": 3
   },
   "file_extension": ".py",
   "mimetype": "text/x-python",
   "name": "python",
   "nbconvert_exporter": "python",
   "pygments_lexer": "ipython3",
   "version": "3.7.2"
  }
 },
 "nbformat": 4,
 "nbformat_minor": 2
}
