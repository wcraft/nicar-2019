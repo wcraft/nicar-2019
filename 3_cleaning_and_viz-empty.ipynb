{
 "cells": [
  {
   "cell_type": "markdown",
   "metadata": {},
   "source": [
    "# Cleaning and visualizing your data\n",
    "\n",
    "No dataset is perfect. Much as with human sources, your data won't have the complete story. It will be able to point you in a new direction or supply valuable context or contain a surprising insight. And it will be representative of the flaws in the process and the people that created it.\n",
    "\n",
    "How to account for all that? Cleaning. No dataset is usable until it's gone through a process by which you know it's as clean as you can get it -- and the ways in which it's still imperfect. Communicating that to editors and audience is important, too.\n",
    "\n",
    "Some things to look for when you're diving into at a dataset:\n",
    "\n",
    "- Are there blank rows at the beginning or end of the file?\n",
    "- What does each column header mean? What are the values you'd expect to find in that column?\n",
    "- Are all the columns importing with the proper column type? Strings, datetimes, floats, integers.\n",
    "- Are there `NaN` (or `null` or `''` or `None`) values in any of your columns? Are there any columns with mostly `NaN` values?\n",
    "- Is there duplicate data?\n",
    "- Are there fields that appear to have been entered inconsistently? Pay attention to capitalization and punctuation!\n",
    "- Do you see any funky special characters?\n",
    "\n",
    "Much of the time spent working with data will be with a scouring pad, a mop, and sometimes a toothbrush.\n",
    "\n",
    "Occasionally you get to use a flamethrower. Those are both good and bad days.\n",
    "\n",
    "Once you have your data, the first trick is usually figuring out which tool you need next.\n"
   ]
  },
  {
   "cell_type": "code",
   "execution_count": null,
   "metadata": {},
   "outputs": [],
   "source": []
  },
  {
   "cell_type": "code",
   "execution_count": null,
   "metadata": {},
   "outputs": [],
   "source": []
  },
  {
   "cell_type": "code",
   "execution_count": null,
   "metadata": {},
   "outputs": [],
   "source": []
  },
  {
   "cell_type": "code",
   "execution_count": null,
   "metadata": {},
   "outputs": [],
   "source": []
  },
  {
   "cell_type": "markdown",
   "metadata": {},
   "source": [
    "One of the first things that leaps out is we have an `Unnamed: 6` column that seems to contain ... nothing. That's what it looks like, so we should check and make sure."
   ]
  },
  {
   "cell_type": "code",
   "execution_count": null,
   "metadata": {},
   "outputs": [],
   "source": []
  },
  {
   "cell_type": "markdown",
   "metadata": {},
   "source": [
    "Perfect. There's nothing in it but nothin'. Let's get rid of it."
   ]
  },
  {
   "cell_type": "code",
   "execution_count": null,
   "metadata": {},
   "outputs": [],
   "source": []
  },
  {
   "cell_type": "markdown",
   "metadata": {},
   "source": [
    "Now let's look again and make sure that did what we think it did."
   ]
  },
  {
   "cell_type": "code",
   "execution_count": null,
   "metadata": {},
   "outputs": [],
   "source": []
  },
  {
   "cell_type": "markdown",
   "metadata": {},
   "source": [
    "Lovely. Onward.\n",
    "\n",
    "Next, let's take a look at this `facid` column. It appears to be a unique id, which is always helpful to have when dealing with a dataset. So let's see if it really is unique."
   ]
  },
  {
   "cell_type": "code",
   "execution_count": null,
   "metadata": {},
   "outputs": [],
   "source": []
  },
  {
   "cell_type": "markdown",
   "metadata": {},
   "source": [
    "Hm. This is worth looking at more closely. What `dtype: int64` is telling us is that `pandas` wants to treat this as a column of integers -- which it clearly isn't. There are letters mixed in and we have no reason to try to do math on these or anything.\n",
    "\n",
    "Let's make sure these come in as strings instead."
   ]
  },
  {
   "cell_type": "code",
   "execution_count": null,
   "metadata": {},
   "outputs": [],
   "source": []
  },
  {
   "cell_type": "markdown",
   "metadata": {},
   "source": [
    "Cool. `O` is for object, which in `pandas` is what we're looking for.\n",
    "\n",
    "Now take another look at the output from `value_counts()`. We want to use these as unique IDs but it looks like there's a value in that column twice. We should take a closer look at that.\n",
    "\n",
    "We've done a littler bit of filtering, so let's try that again here."
   ]
  },
  {
   "cell_type": "code",
   "execution_count": null,
   "metadata": {},
   "outputs": [],
   "source": []
  },
  {
   "cell_type": "markdown",
   "metadata": {},
   "source": [
    "Yep, we've got a duplicate. One seems to have more complete data, so that's the one we want to keep. We'll drop the other one.\n",
    "\n",
    "We're going to drop the row we don't want by selecting its index number, 165, and then resetting the index so that it's numbered sequentially again. For safety, we're also going to write the result to a new variable so that, if we mess up and have to rerun this cell, we won't run the risk of dropping any other row that gets numbered 165.\n",
    "\n",
    "Speaking of messing up: In your Pandas adventures, there's probably going to be a point where you've got a lot of variables saved and things just aren't doing what you think they should be doing. There's an easy way to start fresh in those cases — just select Kernel>Restart & Clear Output to restart so you can run everything from the beginning, or select Kernel>Restart & Run All to clear all variables and rerun your whole notebook."
   ]
  },
  {
   "cell_type": "code",
   "execution_count": null,
   "metadata": {},
   "outputs": [],
   "source": []
  },
  {
   "cell_type": "markdown",
   "metadata": {},
   "source": [
    "Now let's filter again to make sure we no longer have a duplicate."
   ]
  },
  {
   "cell_type": "code",
   "execution_count": null,
   "metadata": {},
   "outputs": [],
   "source": []
  },
  {
   "cell_type": "markdown",
   "metadata": {},
   "source": [
    "Fan-bloody-tastic. Now that we can be pretty confident we don't have duplicates, we can turn out attention to that combined `city_state_zip` column. It's _almost_ helpful. Surely we'd prefer to look at these facilities by city or zip code separately, so we're going to want them in separate columns.\n",
    "\n",
    "The last five characters of each `city_state_zip` entry seem to be our zip codes, so we'll `slice` those off on their own."
   ]
  },
  {
   "cell_type": "code",
   "execution_count": null,
   "metadata": {},
   "outputs": [],
   "source": []
  },
  {
   "cell_type": "markdown",
   "metadata": {},
   "source": [
    "And now we can look again to make sure we did that correctly and none of the values are wonky."
   ]
  },
  {
   "cell_type": "code",
   "execution_count": null,
   "metadata": {},
   "outputs": [],
   "source": []
  },
  {
   "cell_type": "markdown",
   "metadata": {},
   "source": [
    "How does that look to y'all? Anything stand out?\n",
    "\n",
    "Format-wise, this actually worked out pretty well — looks like there weren't any items in that column entered wrong, so all of these are actually zip codes. As an added bonus, it's always best to read zip codes in as string or categorical data, since integer or float formats will drop the leading zeros. And that is its own hellscape.\n",
    "\n",
    "Speaking of leading zeros, though, that 05400 zipcode doesn't quite look right. From the context in the rest of the data, we can be pretty sure that's not an Oregon zip code.\n",
    "\n",
    "Let's take a closer look with a quick filter."
   ]
  },
  {
   "cell_type": "code",
   "execution_count": null,
   "metadata": {},
   "outputs": [],
   "source": []
  },
  {
   "cell_type": "markdown",
   "metadata": {},
   "source": [
    "AHA! Someone was messing with our data. (Full disclosure: It was me.)\n",
    "\n",
    "If it was a little less fake-looking, we might double-check the `facid` against the complaints dataset to make sure it doesn't match any entries there.\n",
    "\n",
    "So now we know that we don't need this as we continue through the cleaning and analysis, we can kill it."
   ]
  },
  {
   "cell_type": "code",
   "execution_count": null,
   "metadata": {},
   "outputs": [],
   "source": []
  },
  {
   "cell_type": "markdown",
   "metadata": {},
   "source": [
    "And so let's look again at those zip codes."
   ]
  },
  {
   "cell_type": "code",
   "execution_count": null,
   "metadata": {},
   "outputs": [],
   "source": []
  },
  {
   "cell_type": "markdown",
   "metadata": {},
   "source": [
    "A note on zip codes: We got a little lucky having to separate out the zip codes from an existing string. That's not always the case, and `pandas` often will see them as integers -- if our dataset had had a separate column of zip codes, there's a 99 percent chance they would have imported as numbers. Especially in New England, where most zip codes begin with a zero, we end up with four-digit zip codes in our data -- which, y'know ... it's not good. [Here's how you can import a column of zip codes as strings]('http://data-tutorials.com/zip-codes-in-pandas.html').\n",
    "\n",
    "So! On to city names.\n",
    "\n",
    "Our city names go up to the first comma, so we can use that to split the string into what comes before and what comes after that comma. Then we can grab the first item and that should be our city name."
   ]
  },
  {
   "cell_type": "code",
   "execution_count": null,
   "metadata": {},
   "outputs": [],
   "source": []
  },
  {
   "cell_type": "markdown",
   "metadata": {},
   "source": [
    "So let's have a look."
   ]
  },
  {
   "cell_type": "code",
   "execution_count": null,
   "metadata": {},
   "outputs": [],
   "source": []
  },
  {
   "cell_type": "markdown",
   "metadata": {},
   "source": [
    "Those look pretty good. We can move on to looking at the `owner` and `operator` fields. Those will be easier to look at quickly if we use a built-in Python function to sort them."
   ]
  },
  {
   "cell_type": "code",
   "execution_count": null,
   "metadata": {},
   "outputs": [],
   "source": []
  },
  {
   "cell_type": "markdown",
   "metadata": {},
   "source": [
    "Right off the bat, we can see there are some duplicates. A change in capitalization, a change in punctuation, a change in spacing -- any of these can cause this. So to the degree that we can, we should try to standardize the names here.\n",
    "\n",
    "First, let's get a sense of the size of the universe of names we're looking at."
   ]
  },
  {
   "cell_type": "code",
   "execution_count": null,
   "metadata": {},
   "outputs": [],
   "source": []
  },
  {
   "cell_type": "markdown",
   "metadata": {},
   "source": [
    "That's about 700 things we'd have to check manually to resolve differences -- more than enough to know code might be able to help us narrow down this normalization problem.\n",
    "\n",
    "What we need are some rules we can apply to all of these to try to eliminate the sublte differences. We can make everything uppercase, for example, and we can remove all the commas and periods.\n",
    "\n",
    "So let's do that."
   ]
  },
  {
   "cell_type": "code",
   "execution_count": null,
   "metadata": {},
   "outputs": [],
   "source": []
  },
  {
   "cell_type": "markdown",
   "metadata": {},
   "source": [
    "Now let's look at that `operator` column again."
   ]
  },
  {
   "cell_type": "code",
   "execution_count": null,
   "metadata": {},
   "outputs": [],
   "source": []
  },
  {
   "cell_type": "markdown",
   "metadata": {},
   "source": [
    "Yo. That is an improvement.\n",
    "\n",
    "We can take another look at the size of our universe and get a sense of how we've narrowed things down."
   ]
  },
  {
   "cell_type": "code",
   "execution_count": null,
   "metadata": {},
   "outputs": [],
   "source": []
  },
  {
   "cell_type": "markdown",
   "metadata": {},
   "source": [
    "Better than having to do that by hand, certainly.\n",
    "\n",
    "OK. So now let's reintroduce our complaints data."
   ]
  },
  {
   "cell_type": "code",
   "execution_count": null,
   "metadata": {},
   "outputs": [],
   "source": []
  },
  {
   "cell_type": "markdown",
   "metadata": {},
   "source": [
    "One of those is not like the other. Quite often, because data is as messy as humans are, you'll see dates unrealistically in the past or the future. Sometimes it's a result of how the system that stores the data handles empty values or poorly formatted historical data. And sometimes it's just, like, because.\n",
    "\n",
    "In this case, let's briefly peer into the future."
   ]
  },
  {
   "cell_type": "code",
   "execution_count": null,
   "metadata": {},
   "outputs": [],
   "source": []
  },
  {
   "cell_type": "markdown",
   "metadata": {},
   "source": [
    "It's one record, and this is a quick analysis, which means this is a reasonable case to make a note that we tossed this record out and move on. "
   ]
  },
  {
   "cell_type": "code",
   "execution_count": null,
   "metadata": {},
   "outputs": [],
   "source": []
  },
  {
   "cell_type": "markdown",
   "metadata": {},
   "source": [
    "Feels like this is in pretty good shape. We've looked at a lot of the initial things to check, so a little analysis and a chart or two seem like a good thing to work toward from here.\n",
    "\n",
    "And thus we return to our good friend `groupby()` for some summaries."
   ]
  },
  {
   "cell_type": "code",
   "execution_count": null,
   "metadata": {},
   "outputs": [],
   "source": []
  },
  {
   "cell_type": "code",
   "execution_count": null,
   "metadata": {},
   "outputs": [],
   "source": []
  },
  {
   "cell_type": "markdown",
   "metadata": {},
   "source": [
    "Let's borrow the merge from the previous session and add the complaint rate to our data"
   ]
  },
  {
   "cell_type": "code",
   "execution_count": null,
   "metadata": {},
   "outputs": [],
   "source": []
  },
  {
   "cell_type": "code",
   "execution_count": null,
   "metadata": {},
   "outputs": [],
   "source": []
  },
  {
   "cell_type": "code",
   "execution_count": null,
   "metadata": {},
   "outputs": [],
   "source": []
  },
  {
   "cell_type": "markdown",
   "metadata": {},
   "source": [
    "## And now we become data artists\n",
    "\n",
    "First, some tools for drawing the data."
   ]
  },
  {
   "cell_type": "code",
   "execution_count": null,
   "metadata": {},
   "outputs": [],
   "source": []
  },
  {
   "cell_type": "code",
   "execution_count": null,
   "metadata": {},
   "outputs": [],
   "source": []
  },
  {
   "cell_type": "markdown",
   "metadata": {},
   "source": [
    "Brilliant. We made a chart.\n",
    "\n",
    "HOLY JEEZ WE MADE A CHART.\n",
    "\n",
    "As we might expect, a quick visualization gives us more questions to ask: \n",
    "- Why so few reports pre-2010?\n",
    "- Are 2010 and 2016 really abberations, or is this partial data for some reason?\n",
    "\n",
    "If you're doing this analysis at work, this is one place you're probably going to want to circle back to your data source or another expert to find out exactly how this was collected. (We're, um. We're not going to do that today.)\n",
    "\n",
    "Instead, let's filter those older records so we can get a better picture of complaints since 2010 and throw a title on that chart. And we might very want to show someone else what we've discovered, so we'll export it to a file to make that easy."
   ]
  },
  {
   "cell_type": "code",
   "execution_count": null,
   "metadata": {},
   "outputs": [],
   "source": []
  },
  {
   "cell_type": "markdown",
   "metadata": {},
   "source": [
    "Way better.\n",
    "\n",
    "Now let's take a look visually at those complaint ratios."
   ]
  },
  {
   "cell_type": "code",
   "execution_count": null,
   "metadata": {},
   "outputs": [],
   "source": []
  },
  {
   "cell_type": "markdown",
   "metadata": {},
   "source": [
    "These are not the prettiest charts ever -- and they don't have to be. They're another tool for quickly analyzing and understanding your data. And if you're working with a designer or want to plug your results into another visualization engine, this can help you decide the best tool to use or the best representation to make.\n",
    "\n",
    "If you're looking to up your visualization game, check out Python libraries [Altair]('https://altair-viz.github.io/') and [seaborn]('https://seaborn.pydata.org/'), which will give you prettier static charts right out of the box, or [bokeh]('https://bokeh.pydata.org/en/latest/') for interactive graphics."
   ]
  }
 ],
 "metadata": {
  "kernelspec": {
   "display_name": "Python 3",
   "language": "python",
   "name": "python3"
  },
  "language_info": {
   "codemirror_mode": {
    "name": "ipython",
    "version": 3
   },
   "file_extension": ".py",
   "mimetype": "text/x-python",
   "name": "python",
   "nbconvert_exporter": "python",
   "pygments_lexer": "ipython3",
   "version": "3.7.1"
  }
 },
 "nbformat": 4,
 "nbformat_minor": 2
}
