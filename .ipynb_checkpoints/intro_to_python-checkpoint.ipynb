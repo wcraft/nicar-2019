{
 "cells": [
  {
   "cell_type": "markdown",
   "metadata": {},
   "source": [
    "## 🐍 Intro to Python \n",
    "\n",
    "Python is a programming language that we can use to do a lot of different things!\n",
    "\n",
    "Here's how I use it in my day-to-day as a data reporter:\n",
    "* Analyze and visualize data\n",
    "* Build websites and interactives \n",
    "* Build and manage databases \n",
    "* Scrape PDFs for information \n",
    "\n",
    "In this session, we are going to go over the basics of Python. \n",
    "\n",
    "#### Goals\n",
    "I hope that you come away from the class knowing enough that you can learn to use Pandas, a powerful data analysis library. Also, I want you to know enough to be able to google what you want to do in Python and be able to understand what you find. \n",
    "\n",
    "#### Who am I? \n",
    "Hi! I am Will Craft. Pronouns he/him. \n",
    "\n",
    "💻 email: wcraft@apmreports.org \n",
    "\n",
    "🐦 @craftworksxyz \n"
   ]
  },
  {
   "cell_type": "markdown",
   "metadata": {},
   "source": [
    "## 🐍 Why use Python over Excel? \n",
    "Excel good for doing some stuff but but ...\n",
    "\n",
    "#### Python is versatile \n",
    "I do almost all my work in python. Here's a sample workflow from a recent project:\n",
    "\n",
    "Get scanned PDF of data from local utility service -> Write python code to pull text data out of pdf -> Write code to parse the text data and turn it into a csv -> Use python to analyze data -> Visualize findings for publication \n",
    "\n",
    "You can use Python to scrape the web, make visuals, do statistics, write up the results of an investigation, build a website, and a whole lot more. \n",
    "\n",
    "#### Python is reproducible\n",
    "*Reproducibility* is important\n",
    "\n",
    "Excel is not reproducible. With Python, I can hand someone my original data and my code and they can re-create all my work with a few keystrokes. This is not possible with Excel unless you take meticulous notes about all the changes you make. Reproducibility reduces errors and allows for fact-checking\n",
    "\n",
    "If I get new data or I make a change to the data, I can run the same script and update my results. \n",
    "\n",
    "#### Python is shareable \n",
    "We are working in jupyter notebook, a program for doing python in bite sized chunks and sharing stuff. You can share your code with co-workers and the public. \n",
    "\n",
    "#### Lots of resources online for learning\n",
    "I do a lot of learning on the job. There are tons of resources for getting started:\n",
    "* NICAR: https://ire.org/resource-center/tipsheets/?q=python \n",
    "* Ben Welsh: http://www.firstpythonnotebook.org/\n",
    "* Django tutorials: https://developer.mozilla.org/en-US/docs/Learn/Server-side/Django/Tutorial_local_library_website\n",
    "* Other data journalists (Lonely Coders Club/News Nerdery) \n"
   ]
  },
  {
   "cell_type": "markdown",
   "metadata": {},
   "source": [
    "## 🐍 Herpatology 101\n",
    "\n",
    "There are a several different versions of Python, because Python itself is constantly evolving, with new features being added and changes being made to the language.\n",
    "\n",
    "We are using Python 3.7 and a program called pipenv. There are lots of packages that people have written to do different things, and these packages sometimes need different versions of Python and might conflict with one another. Pipenv creates and manages a virtual environment, a self-contained sandbox to install different packages. \n",
    "\n",
    "We are going to be working in a jupyter notebook. Jupyter is a program that allows us to write, test, and share python code in handy cells.\n",
    "\n",
    "Let's start our notebook. Open a terminal and navigate to LOCATION. \n",
    "\n",
    "Type `pipenv run jupyter lab` into the terminal, and it will open up a notebook in a browser. \n",
    "\n",
    "You can run the code in a cell by hitting shift+enter"
   ]
  },
  {
   "cell_type": "markdown",
   "metadata": {},
   "source": [
    "## Variables\n",
    "Type something into the cell below"
   ]
  },
  {
   "cell_type": "code",
   "execution_count": 11,
   "metadata": {},
   "outputs": [
    {
     "ename": "NameError",
     "evalue": "name 'snake' is not defined",
     "output_type": "error",
     "traceback": [
      "\u001b[0;31m---------------------------------------------------------------------------\u001b[0m",
      "\u001b[0;31mNameError\u001b[0m                                 Traceback (most recent call last)",
      "\u001b[0;32m<ipython-input-11-12f4f6bc5b79>\u001b[0m in \u001b[0;36m<module>\u001b[0;34m\u001b[0m\n\u001b[0;32m----> 1\u001b[0;31m \u001b[0msnake\u001b[0m\u001b[0;34m\u001b[0m\u001b[0m\n\u001b[0m",
      "\u001b[0;31mNameError\u001b[0m: name 'snake' is not defined"
     ]
    }
   ],
   "source": [
    "snake"
   ]
  },
  {
   "cell_type": "markdown",
   "metadata": {},
   "source": [
    "You probably got some kind of error. I got `NameError: name 'snake' is not defined`. \n",
    "\n",
    "Here are some tips for when you get error messages in the future:\n",
    "* Proofread your code. Errors from misspellings, misplaced punctuation, etc. are common\n",
    "* Google the error message \n",
    "\n",
    "\n",
    "Our problem here is that `snake` is not defined. Python thought it was a variable but we haven't created a variable called `snake` so we got an error"
   ]
  },
  {
   "cell_type": "code",
   "execution_count": 3,
   "metadata": {},
   "outputs": [
    {
     "ename": "NameError",
     "evalue": "name 'pikachu' is not defined",
     "output_type": "error",
     "traceback": [
      "\u001b[0;31m---------------------------------------------------------------------------\u001b[0m",
      "\u001b[0;31mNameError\u001b[0m                                 Traceback (most recent call last)",
      "\u001b[0;32m<ipython-input-3-2795a659f24b>\u001b[0m in \u001b[0;36m<module>\u001b[0;34m\u001b[0m\n\u001b[1;32m      3\u001b[0m \u001b[0;34m\u001b[0m\u001b[0m\n\u001b[1;32m      4\u001b[0m \u001b[0;31m# Pikachu was the name of a pet snake I had as a kid :)\u001b[0m\u001b[0;34m\u001b[0m\u001b[0;34m\u001b[0m\u001b[0m\n\u001b[0;32m----> 5\u001b[0;31m \u001b[0mmy_favorite_snake\u001b[0m \u001b[0;34m=\u001b[0m \u001b[0mpikachu\u001b[0m\u001b[0;34m\u001b[0m\u001b[0m\n\u001b[0m\u001b[1;32m      6\u001b[0m \u001b[0;34m\u001b[0m\u001b[0m\n\u001b[1;32m      7\u001b[0m \u001b[0;31m# What do you think will happen when I run this?\u001b[0m\u001b[0;34m\u001b[0m\u001b[0;34m\u001b[0m\u001b[0m\n",
      "\u001b[0;31mNameError\u001b[0m: name 'pikachu' is not defined"
     ]
    }
   ],
   "source": [
    "# Lets create a variable\n",
    "# A variable can be almost set of characters (No spaces!)\n",
    "\n",
    "# Pikachu was the name of a pet snake I had as a kid :) \n",
    "my_favorite_snake = pikachu\n",
    "\n",
    "# What do you think will happen when I run this?\n"
   ]
  },
  {
   "cell_type": "code",
   "execution_count": 5,
   "metadata": {},
   "outputs": [
    {
     "name": "stdout",
     "output_type": "stream",
     "text": [
      "pikachu\n"
     ]
    }
   ],
   "source": [
    "# What went wrong? \n",
    "# Same error! \n",
    "# Python sees a set of letters and expects a variable. We need to put the information in quotation marks\n",
    "\n",
    "my_favorite_snake = \"pikachu\"\n",
    "\n",
    "# we want python to return something. Lets tell Python to print what we want\n",
    "\n",
    "print(my_favorite_snake)"
   ]
  },
  {
   "cell_type": "markdown",
   "metadata": {},
   "source": [
    "## Data Types\n",
    "\n",
    "Python has several different data types. \n",
    "* Strings -> character data. Strings start and with quotation marks. \n",
    "* Intergers -> whole numbers\n",
    "* Float -> floating point numbers. Numbers with decimal points\n",
    "* Booleans -> True or False (capitalization matters!) \n",
    "\n",
    "Things to keep in mind:\n",
    "* some words are used by Python and can't be used for variables (`def`, `import`, `from`, `in`, `while`, `for`, `if`, `elif`, `else`, `print`, `input`, and many more.)"
   ]
  },
  {
   "cell_type": "markdown",
   "metadata": {},
   "source": [
    "### Strings\n",
    "\n",
    "Anything between quotation marks, Python considers a string. Text data, basically"
   ]
  },
  {
   "cell_type": "code",
   "execution_count": 26,
   "metadata": {},
   "outputs": [],
   "source": [
    "# Python has a lot of built-in functions for handling strings. \n",
    "\n",
    "city_hall = \"1 Frank H Ogawa Plaza, Oakland, CA 94612\""
   ]
  },
  {
   "cell_type": "code",
   "execution_count": 29,
   "metadata": {},
   "outputs": [
    {
     "name": "stdout",
     "output_type": "stream",
     "text": [
      "40\n"
     ]
    }
   ],
   "source": [
    "# We can get the length of the string with len()\n",
    "\n",
    "print(len(city_hall))"
   ]
  },
  {
   "cell_type": "code",
   "execution_count": 31,
   "metadata": {},
   "outputs": [
    {
     "data": {
      "text/plain": [
       "['1', 'Frank', 'H', 'Ogawa', 'Plaza,', 'Oakland,', 'CA', '94612']"
      ]
     },
     "execution_count": 31,
     "metadata": {},
     "output_type": "execute_result"
    }
   ],
   "source": [
    "# We can break the string into pieces based on spaces. \n",
    "city_hall.split()"
   ]
  },
  {
   "cell_type": "markdown",
   "metadata": {},
   "source": [
    "Notice the output of `city_hall.split()`. Each piece is its own string and they are all in something called a list, which we will get to soon."
   ]
  },
  {
   "cell_type": "code",
   "execution_count": 46,
   "metadata": {},
   "outputs": [
    {
     "name": "stdout",
     "output_type": "stream",
     "text": [
      "I hate snakesthat eat kittens.\n"
     ]
    }
   ],
   "source": [
    "# We can add strings together \n",
    "\n",
    "first_half = \"I hate snakes\"\n",
    "\n",
    "second_half = \"that eat kittens.\"\n",
    "\n",
    "\n",
    "# Will this give us any problems? \n",
    "print(first_half+second_half)"
   ]
  },
  {
   "cell_type": "code",
   "execution_count": 47,
   "metadata": {},
   "outputs": [
    {
     "name": "stdout",
     "output_type": "stream",
     "text": [
      "I hate snakes that eat kittens.\n"
     ]
    }
   ],
   "source": [
    "print(first_half+ ' '+ second_half)"
   ]
  },
  {
   "cell_type": "code",
   "execution_count": 33,
   "metadata": {},
   "outputs": [
    {
     "name": "stdout",
     "output_type": "stream",
     "text": [
      "There were 556 and there were 1556 registered voters\n"
     ]
    }
   ],
   "source": [
    "# You can call variables in strings with something called an f-string\n",
    "\n",
    "number_of_registered_voters = 1556\n",
    "number_of_votes = 556\n",
    "\n",
    "print(f\"There were {number_of_votes} and there were {number_of_registered_voters} registered voters\")"
   ]
  },
  {
   "cell_type": "code",
   "execution_count": 38,
   "metadata": {},
   "outputs": [
    {
     "name": "stdout",
     "output_type": "stream",
     "text": [
      "If 556 people voted and there were 1556 registered voters,then 36% of people voted\n"
     ]
    }
   ],
   "source": [
    "# You can even do math in f-strings\n",
    "# I've used this to generate paragraphs of text for different cities where the only difference are the numbers. \n",
    "# Very handy for quickly generating a lot of text for accompanying visuals\n",
    "\n",
    "print(f\"If {number_of_votes} people voted and there were {number_of_registered_voters} registered voters,\\\n",
    "then {round(number_of_votes/number_of_registered_voters * 100)}% of people voted\")"
   ]
  },
  {
   "cell_type": "markdown",
   "metadata": {},
   "source": [
    "### Integers and Floats\n",
    "Whole numbers and floating point numbers "
   ]
  },
  {
   "cell_type": "code",
   "execution_count": 39,
   "metadata": {},
   "outputs": [
    {
     "name": "stdout",
     "output_type": "stream",
     "text": [
      "55\n"
     ]
    }
   ],
   "source": [
    "# What do you think will happen if I run this? \n",
    "print(\"5\" + \"5\")\n",
    "\n",
    "# What happened? "
   ]
  },
  {
   "cell_type": "code",
   "execution_count": 59,
   "metadata": {},
   "outputs": [
    {
     "name": "stdout",
     "output_type": "stream",
     "text": [
      "10\n"
     ]
    }
   ],
   "source": [
    "# What about this?\n",
    "print(5 + 5)"
   ]
  },
  {
   "cell_type": "markdown",
   "metadata": {},
   "source": [
    "Integers and floats, don't need no quotes "
   ]
  },
  {
   "cell_type": "code",
   "execution_count": 49,
   "metadata": {},
   "outputs": [
    {
     "name": "stdout",
     "output_type": "stream",
     "text": [
      "11.25\n"
     ]
    }
   ],
   "source": [
    "# Python automatically follows order of operations \n",
    "print(100/80 + 5 * 2)"
   ]
  },
  {
   "cell_type": "markdown",
   "metadata": {},
   "source": [
    "I don't spend too much time thinking about the difference between floats and ints, but it does matter. \n",
    "\n",
    "You can convert between the two... but be careful. That can cause some weird rounding problems you might not expect! "
   ]
  },
  {
   "cell_type": "code",
   "execution_count": 65,
   "metadata": {},
   "outputs": [
    {
     "name": "stdout",
     "output_type": "stream",
     "text": [
      "18\n"
     ]
    }
   ],
   "source": [
    "float_num = 18.5\n",
    "\n",
    "# convert to an integer with int() ... what happens? \n",
    "print(int(float_num))"
   ]
  },
  {
   "cell_type": "markdown",
   "metadata": {},
   "source": [
    "### Booleans\n",
    "There are two booleans, True and False. They need to be capitalized! "
   ]
  },
  {
   "cell_type": "code",
   "execution_count": 62,
   "metadata": {},
   "outputs": [
    {
     "data": {
      "text/plain": [
       "False"
      ]
     },
     "execution_count": 62,
     "metadata": {},
     "output_type": "execute_result"
    }
   ],
   "source": [
    "# You assign a variable with a single =\n",
    "teacher = 'Will Craft'\n",
    "\n",
    "# You compare with a double equal sign == \n",
    "# What will this give us? \n",
    "teacher == 'will craft'"
   ]
  },
  {
   "cell_type": "markdown",
   "metadata": {},
   "source": [
    "Python demands exactness! We are testing if something is exactly equal. "
   ]
  },
  {
   "cell_type": "code",
   "execution_count": 64,
   "metadata": {},
   "outputs": [
    {
     "name": "stdout",
     "output_type": "stream",
     "text": [
      "True\n",
      "False\n",
      "True\n"
     ]
    }
   ],
   "source": [
    "# We can string together booleans with a couple keywords: `and` and `or`\n",
    "\n",
    "print(True and True)\n",
    "print(True and False)\n",
    "print(True or False)"
   ]
  },
  {
   "cell_type": "markdown",
   "metadata": {},
   "source": [
    "## Lists\n",
    "\n",
    "Lists are groups of different elements enclosed in square brackets\n"
   ]
  },
  {
   "cell_type": "code",
   "execution_count": 11,
   "metadata": {},
   "outputs": [],
   "source": [
    "# Here's a list of months. \n",
    "months = [\"January\", \"February\", \"March\", \"April\", \"May\", \"June\", \"July\", \"August\", \"September\", \"October\", \"November\"]"
   ]
  },
  {
   "cell_type": "code",
   "execution_count": 3,
   "metadata": {},
   "outputs": [
    {
     "data": {
      "text/plain": [
       "11"
      ]
     },
     "execution_count": 3,
     "metadata": {},
     "output_type": "execute_result"
    }
   ],
   "source": [
    "# We can find out how long the list is. The function len() tells us how many elements are in the list. \n",
    "len(months)"
   ]
  },
  {
   "cell_type": "code",
   "execution_count": 12,
   "metadata": {},
   "outputs": [
    {
     "name": "stdout",
     "output_type": "stream",
     "text": [
      "['January', 'February', 'March', 'April', 'May', 'June', 'July', 'August', 'September', 'October', 'November', 'December']\n"
     ]
    }
   ],
   "source": [
    "# Something is wrong with our list! Let's add an element. \n",
    "# Notice we call the append function at the end of our variable. Don't be afraid to look up different functions and how to use them! \n",
    "months.append('December')\n",
    "\n",
    "print(months)"
   ]
  },
  {
   "cell_type": "code",
   "execution_count": 7,
   "metadata": {},
   "outputs": [
    {
     "name": "stdout",
     "output_type": "stream",
     "text": [
      "January\n"
     ]
    }
   ],
   "source": [
    "# We can get the position of different elements in the list by using indexing. You can get the element at the n-th position on the list \n",
    "\n",
    "# What do you think will happen if we do this? \n",
    "print(months[0])"
   ]
  },
  {
   "cell_type": "code",
   "execution_count": 8,
   "metadata": {},
   "outputs": [
    {
     "name": "stdout",
     "output_type": "stream",
     "text": [
      "February\n"
     ]
    }
   ],
   "source": [
    "# What about this? \n",
    "print(months[1])"
   ]
  },
  {
   "cell_type": "code",
   "execution_count": 9,
   "metadata": {},
   "outputs": [
    {
     "name": "stdout",
     "output_type": "stream",
     "text": [
      "December\n"
     ]
    }
   ],
   "source": [
    "# Can we go backwards? \n",
    "print(months[-1])"
   ]
  },
  {
   "cell_type": "code",
   "execution_count": 13,
   "metadata": {},
   "outputs": [
    {
     "name": "stdout",
     "output_type": "stream",
     "text": [
      "['January', 'February', 'March', 'April', 'May', 'June']\n"
     ]
    }
   ],
   "source": [
    "# I only want a part of the list \n",
    "print(months[0:6])"
   ]
  },
  {
   "cell_type": "code",
   "execution_count": 15,
   "metadata": {},
   "outputs": [
    {
     "name": "stdout",
     "output_type": "stream",
     "text": [
      "['January', 'February', 'March', 'April', 'May', 'June']\n"
     ]
    }
   ],
   "source": [
    "# We can save that selection as its own variable! \n",
    "first_half_of_months = months[0:6]\n",
    "print(first_half_of_months)"
   ]
  },
  {
   "cell_type": "code",
   "execution_count": 18,
   "metadata": {},
   "outputs": [
    {
     "name": "stdout",
     "output_type": "stream",
     "text": [
      "7\n"
     ]
    }
   ],
   "source": [
    "# What if you know the thing you want but not the position in the list???\n",
    "print(months.index('August'))"
   ]
  },
  {
   "cell_type": "markdown",
   "metadata": {},
   "source": [
    "## Dictionaries \n",
    "\n",
    "Dictonaries are like lists, but instead of storing a set of variables or integers, dictionaries store sets of information that are connected, called key-value pairs. \n",
    "\n",
    "Think of keys like column names and the values are the values of the cells "
   ]
  },
  {
   "cell_type": "code",
   "execution_count": 20,
   "metadata": {},
   "outputs": [
    {
     "name": "stdout",
     "output_type": "stream",
     "text": [
      "{'city': 'Newport Beach', 'state': 'California', 'county': 'Orange', 'zip': 92657}\n"
     ]
    }
   ],
   "source": [
    "# Curly braces! Not brackets \n",
    "my_dict = { \"city\": \"Newport Beach\", \"state\": \"California\", \"county\": \"Orange\", \"zip\": 92657}\n",
    "\n",
    "print(my_dict)"
   ]
  },
  {
   "cell_type": "code",
   "execution_count": 21,
   "metadata": {},
   "outputs": [
    {
     "name": "stdout",
     "output_type": "stream",
     "text": [
      "Newport Beach\n"
     ]
    }
   ],
   "source": [
    "# Get a single value from the dictonary \n",
    "\n",
    "print(my_dict['city'])"
   ]
  },
  {
   "cell_type": "code",
   "execution_count": 22,
   "metadata": {},
   "outputs": [
    {
     "name": "stdout",
     "output_type": "stream",
     "text": [
      "dict_keys(['city', 'state', 'county', 'zip'])\n",
      "dict_values(['Newport Beach', 'California', 'Orange', 92657])\n"
     ]
    }
   ],
   "source": [
    "#Lets look at all the keys and all the values \n",
    "\n",
    "print(my_dict.keys())\n",
    "\n",
    "print(my_dict.values())"
   ]
  },
  {
   "cell_type": "code",
   "execution_count": 70,
   "metadata": {},
   "outputs": [
    {
     "name": "stdout",
     "output_type": "stream",
     "text": [
      "False\n"
     ]
    }
   ],
   "source": [
    "# We can check to see if there is a key in the dictionary \n",
    "\n",
    "print('weather' in my_dict)"
   ]
  },
  {
   "cell_type": "code",
   "execution_count": 23,
   "metadata": {},
   "outputs": [
    {
     "name": "stdout",
     "output_type": "stream",
     "text": [
      "{'city': 'Newport Beach', 'state': 'California', 'county': 'Orange', 'zip': 92657, 'weather': 'great!'}\n"
     ]
    }
   ],
   "source": [
    "# We can add keys and values to the dictionary. Notice that its a bit different than adding an element to a list. \n",
    "\n",
    "my_dict['weather'] = 'great!'\n",
    "print(my_dict)"
   ]
  },
  {
   "cell_type": "markdown",
   "metadata": {},
   "source": [
    "## For Loops and if else statements \n",
    "\n",
    "For loops and if/else statements are very important! \n",
    "\n",
    "A for-loop iterates through every element in a list. \n",
    "\n",
    "They look like this: "
   ]
  },
  {
   "cell_type": "code",
   "execution_count": 40,
   "metadata": {},
   "outputs": [
    {
     "name": "stdout",
     "output_type": "stream",
     "text": [
      "1 is a <class 'int'>\n",
      "2 is a <class 'int'>\n",
      "3 is a <class 'int'>\n",
      "4 is a <class 'int'>\n",
      "5 is a <class 'int'>\n",
      "6 is a <class 'int'>\n",
      "7 is a <class 'int'>\n",
      "8 is a <class 'int'>\n",
      "9 is a <class 'int'>\n",
      "10 is a <class 'int'>\n"
     ]
    }
   ],
   "source": [
    "numbers = [1, 2, 3, 4, 5, 6, 7, 8, 9, 10]\n",
    "\n",
    "\n",
    "# indentation matters in a for loop\n",
    "for number in numbers:\n",
    "    print(f\"{number} is a {type(number)}\")\n",
    "\n",
    "    "
   ]
  },
  {
   "cell_type": "markdown",
   "metadata": {},
   "source": [
    "If/else statements, like in excel, does one thing if some condition is met, and something else if the condition isn't met. "
   ]
  },
  {
   "cell_type": "code",
   "execution_count": 42,
   "metadata": {},
   "outputs": [
    {
     "name": "stdout",
     "output_type": "stream",
     "text": [
      "1 is ... ODD!\n",
      "2 is ... EVEN!\n",
      "3 is ... ODD!\n",
      "4 is ... EVEN!\n",
      "5 is ... the number 5\n",
      "6 is ... EVEN!\n",
      "7 is ... ODD!\n",
      "8 is ... EVEN!\n",
      "9 is ... ODD!\n",
      "10 is ... EVEN!\n"
     ]
    }
   ],
   "source": [
    "for number in numbers: \n",
    "    if number%2==0:\n",
    "        print(f\"{number} is ... EVEN!\")\n",
    "    # elif short for else, if \n",
    "    # As soon as the condition is met, the code executes and moves to the next element of the list \n",
    "    elif number == 5: \n",
    "        print(f\"{number} is ... the number 5\")\n",
    "    else:\n",
    "        print(f\"{number} is ... ODD!\")"
   ]
  },
  {
   "cell_type": "markdown",
   "metadata": {},
   "source": [
    "## All together now\n",
    "Now let's put everything we've learned together and write some code!\n",
    "\n",
    "Here's a list of dictonaries. Each dictionary has details on a city, the city's newspaper, the paper's circulation, the city's population etc.\n",
    "\n",
    "What are some things we can find out from this information? "
   ]
  },
  {
   "cell_type": "code",
   "execution_count": null,
   "metadata": {},
   "outputs": [],
   "source": [
    "newspaper_details  = [\n",
    "    {\"city\": \"Seattle\", \n",
    "     \"paper_name\": \"The Seattle Times\", \n",
    "     \"circulation\":, \n",
    "     \"city_population\":, \n",
    "     \"radio_station\":, \n",
    "     \"radio_listeners\":},\n",
    "    {\"city\": \"Portland\", \"paper_name\": \"The Oregonian\", \"circulation\":, \"city_population\":, \"radio_station\":, \"radio_listeners\":},\n",
    "    {\"city\": \"Denver\", \"paper_name\": \"The Denver Post\", \"circulation\":, \"city_population\":, \"radio_station\":, \"radio_listeners\":},\n",
    "    {\"city\": \"Austin\", \"paper_name\": \"The American-Statesman\", \"circulation\":, \"city_population\":, \"radio_station\":, \"radio_listeners\":},\n",
    "    {\"city\": \"Minneapolis\", \"paper_name\": \"The Star Tribune\", \"circulation\":, \"city_population\":, \"radio_station\": \"MPR\", \"radio_listeners\":},\n",
    "    {\"city\": \"Chicago\", \"paper_name\": \"The Tribune\", \"circulation\":, \"city_population\":, \"radio_station\": \"WBEZ\", \"radio_listeners\":},\n",
    "    {\"city\": \"Boston\", \"paper_name\": \"The Globe\", \"circulation\":, \"city_population\":, \"radio_station\": \"WGBH\", \"radio_listeners\":}\n",
    "    \n",
    "]"
   ]
  },
  {
   "cell_type": "markdown",
   "metadata": {},
   "source": [
    "Which city has the highest per capita circulation? Which has the highest per capita listenership? \n",
    "\n",
    "What else could you learn? "
   ]
  },
  {
   "cell_type": "code",
   "execution_count": null,
   "metadata": {},
   "outputs": [],
   "source": [
    "for dictionary in newspaper_details:\n",
    "    "
   ]
  }
 ],
 "metadata": {
  "kernelspec": {
   "display_name": "Python 3",
   "language": "python",
   "name": "python3"
  },
  "language_info": {
   "codemirror_mode": {
    "name": "ipython",
    "version": 3
   },
   "file_extension": ".py",
   "mimetype": "text/x-python",
   "name": "python",
   "nbconvert_exporter": "python",
   "pygments_lexer": "ipython3",
   "version": "3.7.0"
  }
 },
 "nbformat": 4,
 "nbformat_minor": 2
}
